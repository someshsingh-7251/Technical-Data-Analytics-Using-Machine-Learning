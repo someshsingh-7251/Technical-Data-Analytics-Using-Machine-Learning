{
 "cells": [
  {
   "cell_type": "markdown",
   "id": "8003f3ac",
   "metadata": {
    "papermill": {
     "duration": 0.003766,
     "end_time": "2025-02-27T17:19:39.516740",
     "exception": false,
     "start_time": "2025-02-27T17:19:39.512974",
     "status": "completed"
    },
    "tags": []
   },
   "source": [
    "# **Cancer Cell Classification using Scikit-learn**"
   ]
  },
  {
   "cell_type": "markdown",
   "id": "a0e6db16",
   "metadata": {
    "papermill": {
     "duration": 0.003089,
     "end_time": "2025-02-27T17:19:39.523559",
     "exception": false,
     "start_time": "2025-02-27T17:19:39.520470",
     "status": "completed"
    },
    "tags": []
   },
   "source": [
    "## Import Required Libraries"
   ]
  },
  {
   "cell_type": "code",
   "execution_count": 1,
   "id": "8bf4bfc5",
   "metadata": {
    "_cell_guid": "b1076dfc-b9ad-4769-8c92-a6c4dae69d19",
    "_uuid": "8f2839f25d086af736a60e9eeb907d3b93b6e0e5",
    "execution": {
     "iopub.execute_input": "2025-02-27T17:19:39.531476Z",
     "iopub.status.busy": "2025-02-27T17:19:39.531068Z",
     "iopub.status.idle": "2025-02-27T17:19:43.083618Z",
     "shell.execute_reply": "2025-02-27T17:19:43.082444Z"
    },
    "papermill": {
     "duration": 3.558909,
     "end_time": "2025-02-27T17:19:43.085729",
     "exception": false,
     "start_time": "2025-02-27T17:19:39.526820",
     "status": "completed"
    },
    "tags": []
   },
   "outputs": [],
   "source": [
    "import pandas as pd\n",
    "import numpy as np\n",
    "import matplotlib.pyplot as plt\n",
    "import seaborn as sns\n",
    "from sklearn.model_selection import train_test_split\n",
    "from sklearn.preprocessing import StandardScaler\n",
    "from sklearn.ensemble import RandomForestClassifier\n",
    "from sklearn.metrics import accuracy_score, confusion_matrix, classification_report\n",
    "from sklearn.datasets import load_breast_cancer"
   ]
  },
  {
   "cell_type": "markdown",
   "id": "8a85f7c8",
   "metadata": {
    "papermill": {
     "duration": 0.002972,
     "end_time": "2025-02-27T17:19:43.092305",
     "exception": false,
     "start_time": "2025-02-27T17:19:43.089333",
     "status": "completed"
    },
    "tags": []
   },
   "source": [
    "## Load the Dataset"
   ]
  },
  {
   "cell_type": "code",
   "execution_count": 2,
   "id": "d11d827a",
   "metadata": {
    "execution": {
     "iopub.execute_input": "2025-02-27T17:19:43.100101Z",
     "iopub.status.busy": "2025-02-27T17:19:43.099541Z",
     "iopub.status.idle": "2025-02-27T17:19:43.141304Z",
     "shell.execute_reply": "2025-02-27T17:19:43.140091Z"
    },
    "papermill": {
     "duration": 0.047902,
     "end_time": "2025-02-27T17:19:43.143378",
     "exception": false,
     "start_time": "2025-02-27T17:19:43.095476",
     "status": "completed"
    },
    "tags": []
   },
   "outputs": [
    {
     "name": "stdout",
     "output_type": "stream",
     "text": [
      "First 5 rows of dataset:\n",
      "   mean radius  mean texture  mean perimeter  mean area  mean smoothness  \\\n",
      "0        17.99         10.38          122.80     1001.0          0.11840   \n",
      "1        20.57         17.77          132.90     1326.0          0.08474   \n",
      "2        19.69         21.25          130.00     1203.0          0.10960   \n",
      "3        11.42         20.38           77.58      386.1          0.14250   \n",
      "4        20.29         14.34          135.10     1297.0          0.10030   \n",
      "\n",
      "   mean compactness  mean concavity  mean concave points  mean symmetry  \\\n",
      "0           0.27760          0.3001              0.14710         0.2419   \n",
      "1           0.07864          0.0869              0.07017         0.1812   \n",
      "2           0.15990          0.1974              0.12790         0.2069   \n",
      "3           0.28390          0.2414              0.10520         0.2597   \n",
      "4           0.13280          0.1980              0.10430         0.1809   \n",
      "\n",
      "   mean fractal dimension  ...  worst texture  worst perimeter  worst area  \\\n",
      "0                 0.07871  ...          17.33           184.60      2019.0   \n",
      "1                 0.05667  ...          23.41           158.80      1956.0   \n",
      "2                 0.05999  ...          25.53           152.50      1709.0   \n",
      "3                 0.09744  ...          26.50            98.87       567.7   \n",
      "4                 0.05883  ...          16.67           152.20      1575.0   \n",
      "\n",
      "   worst smoothness  worst compactness  worst concavity  worst concave points  \\\n",
      "0            0.1622             0.6656           0.7119                0.2654   \n",
      "1            0.1238             0.1866           0.2416                0.1860   \n",
      "2            0.1444             0.4245           0.4504                0.2430   \n",
      "3            0.2098             0.8663           0.6869                0.2575   \n",
      "4            0.1374             0.2050           0.4000                0.1625   \n",
      "\n",
      "   worst symmetry  worst fractal dimension  target  \n",
      "0          0.4601                  0.11890       0  \n",
      "1          0.2750                  0.08902       0  \n",
      "2          0.3613                  0.08758       0  \n",
      "3          0.6638                  0.17300       0  \n",
      "4          0.2364                  0.07678       0  \n",
      "\n",
      "[5 rows x 31 columns]\n",
      "\n",
      "Name: Somesh Singh\n",
      "Roll Number: 233025921\n"
     ]
    }
   ],
   "source": [
    "# Load the Breast Cancer dataset\n",
    "data = load_breast_cancer()\n",
    "df = pd.DataFrame(data.data, columns=data.feature_names)\n",
    "\n",
    "# Add target variable\n",
    "df['target'] = data.target\n",
    "\n",
    "# Display first 5 rows\n",
    "print(\"First 5 rows of dataset:\")\n",
    "print(df.head())\n",
    "\n",
    "# Print name & roll number\n",
    "print(\"\\nName: Somesh Singh\")\n",
    "print(\"Roll Number: 233025921\")"
   ]
  },
  {
   "cell_type": "markdown",
   "id": "193549ea",
   "metadata": {
    "papermill": {
     "duration": 0.003053,
     "end_time": "2025-02-27T17:19:43.150164",
     "exception": false,
     "start_time": "2025-02-27T17:19:43.147111",
     "status": "completed"
    },
    "tags": []
   },
   "source": [
    "## Data Preprocessing & Splitting"
   ]
  },
  {
   "cell_type": "code",
   "execution_count": 3,
   "id": "a6aa8898",
   "metadata": {
    "execution": {
     "iopub.execute_input": "2025-02-27T17:19:43.158231Z",
     "iopub.status.busy": "2025-02-27T17:19:43.157879Z",
     "iopub.status.idle": "2025-02-27T17:19:43.194100Z",
     "shell.execute_reply": "2025-02-27T17:19:43.192661Z"
    },
    "papermill": {
     "duration": 0.042469,
     "end_time": "2025-02-27T17:19:43.196026",
     "exception": false,
     "start_time": "2025-02-27T17:19:43.153557",
     "status": "completed"
    },
    "tags": []
   },
   "outputs": [
    {
     "name": "stdout",
     "output_type": "stream",
     "text": [
      "Missing values in dataset:\n",
      "mean radius                0\n",
      "mean texture               0\n",
      "mean perimeter             0\n",
      "mean area                  0\n",
      "mean smoothness            0\n",
      "mean compactness           0\n",
      "mean concavity             0\n",
      "mean concave points        0\n",
      "mean symmetry              0\n",
      "mean fractal dimension     0\n",
      "radius error               0\n",
      "texture error              0\n",
      "perimeter error            0\n",
      "area error                 0\n",
      "smoothness error           0\n",
      "compactness error          0\n",
      "concavity error            0\n",
      "concave points error       0\n",
      "symmetry error             0\n",
      "fractal dimension error    0\n",
      "worst radius               0\n",
      "worst texture              0\n",
      "worst perimeter            0\n",
      "worst area                 0\n",
      "worst smoothness           0\n",
      "worst compactness          0\n",
      "worst concavity            0\n",
      "worst concave points       0\n",
      "worst symmetry             0\n",
      "worst fractal dimension    0\n",
      "target                     0\n",
      "dtype: int64\n",
      "\n",
      "Name: Somesh Singh\n",
      "Roll Number: 233025921\n"
     ]
    }
   ],
   "source": [
    "# Checking for missing values\n",
    "print(\"Missing values in dataset:\")\n",
    "print(df.isnull().sum())\n",
    "\n",
    "# Splitting dataset into features (X) and target (y)\n",
    "X = df.drop(columns=['target'])  # Features\n",
    "y = df['target']  # Target variable\n",
    "\n",
    "# Splitting into training and testing sets (80% train, 20% test)\n",
    "X_train, X_test, y_train, y_test = train_test_split(X, y, test_size=0.2, random_state=42)\n",
    "\n",
    "# Standardizing the data\n",
    "scaler = StandardScaler()\n",
    "X_train = scaler.fit_transform(X_train)\n",
    "X_test = scaler.transform(X_test)\n",
    "\n",
    "# Print name & roll number\n",
    "print(\"\\nName: Somesh Singh\")\n",
    "print(\"Roll Number: 233025921\")"
   ]
  },
  {
   "cell_type": "markdown",
   "id": "be68c4da",
   "metadata": {
    "papermill": {
     "duration": 0.0034,
     "end_time": "2025-02-27T17:19:43.203272",
     "exception": false,
     "start_time": "2025-02-27T17:19:43.199872",
     "status": "completed"
    },
    "tags": []
   },
   "source": [
    "## Train Random Forest Classifier Model"
   ]
  },
  {
   "cell_type": "code",
   "execution_count": 4,
   "id": "6ff3850f",
   "metadata": {
    "execution": {
     "iopub.execute_input": "2025-02-27T17:19:43.211658Z",
     "iopub.status.busy": "2025-02-27T17:19:43.211257Z",
     "iopub.status.idle": "2025-02-27T17:19:43.446912Z",
     "shell.execute_reply": "2025-02-27T17:19:43.445303Z"
    },
    "papermill": {
     "duration": 0.242902,
     "end_time": "2025-02-27T17:19:43.449673",
     "exception": false,
     "start_time": "2025-02-27T17:19:43.206771",
     "status": "completed"
    },
    "tags": []
   },
   "outputs": [
    {
     "name": "stdout",
     "output_type": "stream",
     "text": [
      "\n",
      "Name: Somesh Singh\n",
      "Roll Number: 233025921\n"
     ]
    }
   ],
   "source": [
    "# Training Random Forest Classifier Model\n",
    "model = RandomForestClassifier(n_estimators=100, random_state=42)\n",
    "model.fit(X_train, y_train)\n",
    "\n",
    "# Print name & roll number\n",
    "print(\"\\nName: Somesh Singh\")\n",
    "print(\"Roll Number: 233025921\")"
   ]
  },
  {
   "cell_type": "markdown",
   "id": "92304ff2",
   "metadata": {
    "papermill": {
     "duration": 0.003312,
     "end_time": "2025-02-27T17:19:43.457100",
     "exception": false,
     "start_time": "2025-02-27T17:19:43.453788",
     "status": "completed"
    },
    "tags": []
   },
   "source": [
    "## Model Prediction & Evaluation"
   ]
  },
  {
   "cell_type": "code",
   "execution_count": 5,
   "id": "c8bfc7aa",
   "metadata": {
    "execution": {
     "iopub.execute_input": "2025-02-27T17:19:43.466311Z",
     "iopub.status.busy": "2025-02-27T17:19:43.465866Z",
     "iopub.status.idle": "2025-02-27T17:19:43.484073Z",
     "shell.execute_reply": "2025-02-27T17:19:43.483105Z"
    },
    "papermill": {
     "duration": 0.025024,
     "end_time": "2025-02-27T17:19:43.485763",
     "exception": false,
     "start_time": "2025-02-27T17:19:43.460739",
     "status": "completed"
    },
    "tags": []
   },
   "outputs": [
    {
     "name": "stdout",
     "output_type": "stream",
     "text": [
      "\n",
      "Model Accuracy: 0.9649122807017544\n",
      "\n",
      "Name: Somesh Singh\n",
      "Roll Number: 233025921\n"
     ]
    }
   ],
   "source": [
    "# Predictions\n",
    "y_pred = model.predict(X_test)\n",
    "\n",
    "# Model Accuracy\n",
    "accuracy = accuracy_score(y_test, y_pred)\n",
    "print(\"\\nModel Accuracy:\", accuracy)\n",
    "\n",
    "# Print name & roll number\n",
    "print(\"\\nName: Somesh Singh\")\n",
    "print(\"Roll Number: 233025921\")"
   ]
  },
  {
   "cell_type": "markdown",
   "id": "5525d7c9",
   "metadata": {
    "papermill": {
     "duration": 0.003397,
     "end_time": "2025-02-27T17:19:43.492993",
     "exception": false,
     "start_time": "2025-02-27T17:19:43.489596",
     "status": "completed"
    },
    "tags": []
   },
   "source": [
    "## Confusion Matrix & Classification Report"
   ]
  },
  {
   "cell_type": "code",
   "execution_count": 6,
   "id": "3e0bce21",
   "metadata": {
    "execution": {
     "iopub.execute_input": "2025-02-27T17:19:43.501742Z",
     "iopub.status.busy": "2025-02-27T17:19:43.501375Z",
     "iopub.status.idle": "2025-02-27T17:19:43.518318Z",
     "shell.execute_reply": "2025-02-27T17:19:43.516991Z"
    },
    "papermill": {
     "duration": 0.023631,
     "end_time": "2025-02-27T17:19:43.520235",
     "exception": false,
     "start_time": "2025-02-27T17:19:43.496604",
     "status": "completed"
    },
    "tags": []
   },
   "outputs": [
    {
     "name": "stdout",
     "output_type": "stream",
     "text": [
      "\n",
      "Confusion Matrix:\n",
      "[[40  3]\n",
      " [ 1 70]]\n",
      "\n",
      "Classification Report:\n",
      "               precision    recall  f1-score   support\n",
      "\n",
      "           0       0.98      0.93      0.95        43\n",
      "           1       0.96      0.99      0.97        71\n",
      "\n",
      "    accuracy                           0.96       114\n",
      "   macro avg       0.97      0.96      0.96       114\n",
      "weighted avg       0.97      0.96      0.96       114\n",
      "\n",
      "\n",
      "Name: Somesh Singh\n",
      "Roll Number: 233025921\n"
     ]
    }
   ],
   "source": [
    "# Confusion Matrix\n",
    "conf_matrix = confusion_matrix(y_test, y_pred)\n",
    "print(\"\\nConfusion Matrix:\")\n",
    "print(conf_matrix)\n",
    "\n",
    "# Classification Report\n",
    "report = classification_report(y_test, y_pred)\n",
    "print(\"\\nClassification Report:\\n\", report)\n",
    "\n",
    "# Print name & roll number\n",
    "print(\"\\nName: Somesh Singh\")\n",
    "print(\"Roll Number: 233025921\")"
   ]
  },
  {
   "cell_type": "markdown",
   "id": "5a51076c",
   "metadata": {
    "papermill": {
     "duration": 0.003381,
     "end_time": "2025-02-27T17:19:43.527435",
     "exception": false,
     "start_time": "2025-02-27T17:19:43.524054",
     "status": "completed"
    },
    "tags": []
   },
   "source": [
    "## Confusion Matrix Heatmap"
   ]
  },
  {
   "cell_type": "code",
   "execution_count": 7,
   "id": "3839301e",
   "metadata": {
    "execution": {
     "iopub.execute_input": "2025-02-27T17:19:43.536016Z",
     "iopub.status.busy": "2025-02-27T17:19:43.535583Z",
     "iopub.status.idle": "2025-02-27T17:19:43.931573Z",
     "shell.execute_reply": "2025-02-27T17:19:43.930387Z"
    },
    "papermill": {
     "duration": 0.402233,
     "end_time": "2025-02-27T17:19:43.933261",
     "exception": false,
     "start_time": "2025-02-27T17:19:43.531028",
     "status": "completed"
    },
    "tags": []
   },
   "outputs": [
    {
     "data": {
      "image/png": "[encoded data removed]",
      "text/plain": [
       "<Figure size 600x400 with 2 Axes>"
      ]
     },
     "metadata": {},
     "output_type": "display_data"
    },
    {
     "name": "stdout",
     "output_type": "stream",
     "text": [
      "\n",
      "Name: Somesh Singh\n",
      "Roll Number: 233025921\n"
     ]
    }
   ],
   "source": [
    "# Plot Confusion Matrix\n",
    "plt.figure(figsize=(6,4))\n",
    "sns.heatmap(conf_matrix, annot=True, fmt=\"d\", cmap=\"Blues\")\n",
    "plt.xlabel(\"Predicted\")\n",
    "plt.ylabel(\"Actual\")\n",
    "plt.title(\"Confusion Matrix\")\n",
    "plt.show()\n",
    "\n",
    "# Print name & roll number\n",
    "print(\"\\nName: Somesh Singh\")\n",
    "print(\"Roll Number: 233025921\")"
   ]
  }
 ],
 "metadata": {
  "kaggle": {
   "accelerator": "none",
   "dataSources": [
    {
     "datasetId": 6754658,
     "sourceId": 10871927,
     "sourceType": "datasetVersion"
    }
   ],
   "dockerImageVersionId": 30918,
   "isGpuEnabled": false,
   "isInternetEnabled": true,
   "language": "python",
   "sourceType": "notebook"
  },
  "kernelspec": {
   "display_name": "Python 3",
   "language": "python",
   "name": "python3"
  },
  "language_info": {
   "codemirror_mode": {
    "name": "ipython",
    "version": 3
   },
   "file_extension": ".py",
   "mimetype": "text/x-python",
   "name": "python",
   "nbconvert_exporter": "python",
   "pygments_lexer": "ipython3",
   "version": "3.10.12"
  },
  "papermill": {
   "default_parameters": {},
   "duration": 8.148349,
   "end_time": "2025-02-27T17:19:44.758018",
   "environment_variables": {},
   "exception": null,
   "input_path": "__notebook__.ipynb",
   "output_path": "__notebook__.ipynb",
   "parameters": {},
   "start_time": "2025-02-27T17:19:36.609669",
   "version": "2.6.0"
  }
 },
 "nbformat": 4,
 "nbformat_minor": 5
}
