{
 "cells": [
  {
   "cell_type": "markdown",
   "id": "01d571b9",
   "metadata": {
    "papermill": {
     "duration": 0.003769,
     "end_time": "2025-02-27T14:38:44.850729",
     "exception": false,
     "start_time": "2025-02-27T14:38:44.846960",
     "status": "completed"
    },
    "tags": []
   },
   "source": [
    "# **Task 2: Autism Prediction using Machine Learning**"
   ]
  },
  {
   "cell_type": "markdown",
   "id": "d7b5275a",
   "metadata": {
    "papermill": {
     "duration": 0.003576,
     "end_time": "2025-02-27T14:38:44.858111",
     "exception": false,
     "start_time": "2025-02-27T14:38:44.854535",
     "status": "completed"
    },
    "tags": []
   },
   "source": [
    " # Import Required Libraries"
   ]
  },
  {
   "cell_type": "code",
   "execution_count": 1,
   "id": "c03f2cc4",
   "metadata": {
    "execution": {
     "iopub.execute_input": "2025-02-27T14:38:44.866523Z",
     "iopub.status.busy": "2025-02-27T14:38:44.866037Z",
     "iopub.status.idle": "2025-02-27T14:38:48.540169Z",
     "shell.execute_reply": "2025-02-27T14:38:48.538905Z"
    },
    "papermill": {
     "duration": 3.680585,
     "end_time": "2025-02-27T14:38:48.542128",
     "exception": false,
     "start_time": "2025-02-27T14:38:44.861543",
     "status": "completed"
    },
    "tags": []
   },
   "outputs": [],
   "source": [
    "import pandas as pd\n",
    "import numpy as np\n",
    "import matplotlib.pyplot as plt\n",
    "import seaborn as sns\n",
    "from sklearn.model_selection import train_test_split\n",
    "from sklearn.preprocessing import LabelEncoder, StandardScaler\n",
    "from sklearn.ensemble import RandomForestClassifier\n",
    "from sklearn.metrics import accuracy_score, confusion_matrix, classification_report"
   ]
  },
  {
   "cell_type": "markdown",
   "id": "9a4df5ce",
   "metadata": {
    "papermill": {
     "duration": 0.003078,
     "end_time": "2025-02-27T14:38:48.548837",
     "exception": false,
     "start_time": "2025-02-27T14:38:48.545759",
     "status": "completed"
    },
    "tags": []
   },
   "source": [
    "# Load the Dataset"
   ]
  },
  {
   "cell_type": "code",
   "execution_count": 2,
   "id": "d7e5f7cb",
   "metadata": {
    "execution": {
     "iopub.execute_input": "2025-02-27T14:38:48.556936Z",
     "iopub.status.busy": "2025-02-27T14:38:48.556411Z",
     "iopub.status.idle": "2025-02-27T14:38:48.604173Z",
     "shell.execute_reply": "2025-02-27T14:38:48.602620Z"
    },
    "papermill": {
     "duration": 0.053904,
     "end_time": "2025-02-27T14:38:48.606008",
     "exception": false,
     "start_time": "2025-02-27T14:38:48.552104",
     "status": "completed"
    },
    "tags": []
   },
   "outputs": [
    {
     "name": "stdout",
     "output_type": "stream",
     "text": [
      "First 5 rows of dataset:\n",
      "   ID  A1_Score  A2_Score  A3_Score  A4_Score  A5_Score  A6_Score  A7_Score  \\\n",
      "0   1         1         1         0         0         1         1         0   \n",
      "1   2         1         0         0         0         0         0         0   \n",
      "2   3         1         1         1         0         1         1         0   \n",
      "3   4         0         0         0         0         0         0         0   \n",
      "4   5         0         0         0         1         0         0         0   \n",
      "\n",
      "   A8_Score  A9_Score  ...        age  gender       ethnicity jaundice austim  \\\n",
      "0         0         1  ...  15.599481       m  White-European      yes     no   \n",
      "1         1         0  ...  27.181099       m           Asian       no     no   \n",
      "2         1         1  ...  31.643906       m  White-European      yes     no   \n",
      "3         0         0  ...  25.369210       m               ?       no     no   \n",
      "4         0         0  ...   9.078580       m               ?       no     no   \n",
      "\n",
      "  contry_of_res used_app_before     result     age_desc relation  \n",
      "0         India              no  12.399055  18 and more     Self  \n",
      "1        Mexico              no   6.551598  18 and more     Self  \n",
      "2         Egypt              no   3.180663  18 and more     Self  \n",
      "3         India              no   2.220766  18 and more     Self  \n",
      "4         Italy              no   7.252028  18 and more     Self  \n",
      "\n",
      "[5 rows x 21 columns]\n",
      "\n",
      "Column Names in Dataset:\n",
      "Index(['ID', 'A1_Score', 'A2_Score', 'A3_Score', 'A4_Score', 'A5_Score',\n",
      "       'A6_Score', 'A7_Score', 'A8_Score', 'A9_Score', 'A10_Score', 'age',\n",
      "       'gender', 'ethnicity', 'jaundice', 'austim', 'contry_of_res',\n",
      "       'used_app_before', 'result', 'age_desc', 'relation'],\n",
      "      dtype='object')\n",
      "\n",
      "Name: Somesh Singh\n",
      "Roll Number: 233025921\n"
     ]
    }
   ],
   "source": [
    "# Load the dataset\n",
    "file_path = \"/kaggle/input/autism-dataset/test.csv\"\n",
    "df = pd.read_csv(file_path)\n",
    "\n",
    "# Display first 5 rows\n",
    "print(\"First 5 rows of dataset:\")\n",
    "print(df.head())\n",
    "\n",
    "# Print column names\n",
    "print(\"\\nColumn Names in Dataset:\")\n",
    "print(df.columns)\n",
    "\n",
    "# Print name & roll number\n",
    "print(\"\\nName: Somesh Singh\")\n",
    "print(\"Roll Number: 233025921\")"
   ]
  },
  {
   "cell_type": "markdown",
   "id": "6d14e774",
   "metadata": {
    "papermill": {
     "duration": 0.003203,
     "end_time": "2025-02-27T14:38:48.612938",
     "exception": false,
     "start_time": "2025-02-27T14:38:48.609735",
     "status": "completed"
    },
    "tags": []
   },
   "source": [
    "# Data Preprocessing"
   ]
  },
  {
   "cell_type": "code",
   "execution_count": 3,
   "id": "e07fed04",
   "metadata": {
    "execution": {
     "iopub.execute_input": "2025-02-27T14:38:48.621178Z",
     "iopub.status.busy": "2025-02-27T14:38:48.620765Z",
     "iopub.status.idle": "2025-02-27T14:38:48.644644Z",
     "shell.execute_reply": "2025-02-27T14:38:48.643291Z"
    },
    "papermill": {
     "duration": 0.03023,
     "end_time": "2025-02-27T14:38:48.646572",
     "exception": false,
     "start_time": "2025-02-27T14:38:48.616342",
     "status": "completed"
    },
    "tags": []
   },
   "outputs": [
    {
     "name": "stdout",
     "output_type": "stream",
     "text": [
      "Missing values in dataset:\n",
      "ID                 0\n",
      "A1_Score           0\n",
      "A2_Score           0\n",
      "A3_Score           0\n",
      "A4_Score           0\n",
      "A5_Score           0\n",
      "A6_Score           0\n",
      "A7_Score           0\n",
      "A8_Score           0\n",
      "A9_Score           0\n",
      "A10_Score          0\n",
      "age                0\n",
      "gender             0\n",
      "ethnicity          0\n",
      "jaundice           0\n",
      "austim             0\n",
      "contry_of_res      0\n",
      "used_app_before    0\n",
      "result             0\n",
      "age_desc           0\n",
      "relation           0\n",
      "dtype: int64\n",
      "\n",
      "Name: Somesh Singh\n",
      "Roll Number: 233025921\n"
     ]
    }
   ],
   "source": [
    "# Checking for missing values\n",
    "print(\"Missing values in dataset:\")\n",
    "print(df.isnull().sum())\n",
    "\n",
    "# Dropping unnecessary columns \n",
    "df = df.drop(columns=['age_desc', 'relation'], errors='ignore')  \n",
    "# Convert categorical columns to numerical\n",
    "label_enc = LabelEncoder()\n",
    "for col in df.select_dtypes(include=['object']).columns:\n",
    "    df[col] = label_enc.fit_transform(df[col])\n",
    "\n",
    "# Splitting dataset into features (X) and target (y)\n",
    "target_column = \"gender\"  \n",
    "X = df.drop(columns=[target_column])  # Features\n",
    "y = df[target_column]  # Target variable\n",
    "\n",
    "# Splitting into training and testing sets (80% train, 20% test)\n",
    "X_train, X_test, y_train, y_test = train_test_split(X, y, test_size=0.2, random_state=42)\n",
    "\n",
    "# Standardizing the data\n",
    "scaler = StandardScaler()\n",
    "X_train = scaler.fit_transform(X_train)\n",
    "X_test = scaler.transform(X_test)\n",
    "\n",
    "# Print name & roll number\n",
    "print(\"\\nName: Somesh Singh\")\n",
    "print(\"Roll Number: 233025921\")\n"
   ]
  },
  {
   "cell_type": "markdown",
   "id": "0060ef59",
   "metadata": {
    "papermill": {
     "duration": 0.003802,
     "end_time": "2025-02-27T14:38:48.654138",
     "exception": false,
     "start_time": "2025-02-27T14:38:48.650336",
     "status": "completed"
    },
    "tags": []
   },
   "source": [
    "# Train Random Forest Classifier Model"
   ]
  },
  {
   "cell_type": "code",
   "execution_count": 4,
   "id": "cc12b7c8",
   "metadata": {
    "execution": {
     "iopub.execute_input": "2025-02-27T14:38:48.662536Z",
     "iopub.status.busy": "2025-02-27T14:38:48.662156Z",
     "iopub.status.idle": "2025-02-27T14:38:48.830189Z",
     "shell.execute_reply": "2025-02-27T14:38:48.828781Z"
    },
    "papermill": {
     "duration": 0.174957,
     "end_time": "2025-02-27T14:38:48.832667",
     "exception": false,
     "start_time": "2025-02-27T14:38:48.657710",
     "status": "completed"
    },
    "tags": []
   },
   "outputs": [
    {
     "name": "stdout",
     "output_type": "stream",
     "text": [
      "\n",
      "Name: Somesh Singh\n",
      "Roll Number: 233025921\n"
     ]
    }
   ],
   "source": [
    "# Training Random Forest Classifier Model\n",
    "model = RandomForestClassifier(n_estimators=100, random_state=42)\n",
    "model.fit(X_train, y_train)\n",
    "\n",
    "# Print name & roll number\n",
    "print(\"\\nName: Somesh Singh\")\n",
    "print(\"Roll Number: 233025921\")"
   ]
  },
  {
   "cell_type": "markdown",
   "id": "4c933210",
   "metadata": {
    "papermill": {
     "duration": 0.003437,
     "end_time": "2025-02-27T14:38:48.840187",
     "exception": false,
     "start_time": "2025-02-27T14:38:48.836750",
     "status": "completed"
    },
    "tags": []
   },
   "source": [
    "# Model Prediction & Evaluation"
   ]
  },
  {
   "cell_type": "code",
   "execution_count": 5,
   "id": "c9561711",
   "metadata": {
    "execution": {
     "iopub.execute_input": "2025-02-27T14:38:48.848845Z",
     "iopub.status.busy": "2025-02-27T14:38:48.848447Z",
     "iopub.status.idle": "2025-02-27T14:38:48.865532Z",
     "shell.execute_reply": "2025-02-27T14:38:48.864202Z"
    },
    "papermill": {
     "duration": 0.023492,
     "end_time": "2025-02-27T14:38:48.867299",
     "exception": false,
     "start_time": "2025-02-27T14:38:48.843807",
     "status": "completed"
    },
    "tags": []
   },
   "outputs": [
    {
     "name": "stdout",
     "output_type": "stream",
     "text": [
      "\n",
      "Model Accuracy: 0.55\n",
      "\n",
      "Name: Somesh Singh\n",
      "Roll Number: 233025921\n"
     ]
    }
   ],
   "source": [
    "# Predictions\n",
    "y_pred = model.predict(X_test)\n",
    "\n",
    "# Model Acuracy\n",
    "accuracy = accuracy_score(y_test, y_pred)\n",
    "print(\"\\nModel Accuracy:\", accuracy)\n",
    "\n",
    "# Print name & roll number\n",
    "print(\"\\nName: Somesh Singh\")\n",
    "print(\"Roll Number: 233025921\")"
   ]
  },
  {
   "cell_type": "markdown",
   "id": "7386eca8",
   "metadata": {
    "papermill": {
     "duration": 0.003473,
     "end_time": "2025-02-27T14:38:48.874608",
     "exception": false,
     "start_time": "2025-02-27T14:38:48.871135",
     "status": "completed"
    },
    "tags": []
   },
   "source": [
    "# Confusion Matrix & Classification Report"
   ]
  },
  {
   "cell_type": "code",
   "execution_count": 6,
   "id": "3a20ee9a",
   "metadata": {
    "execution": {
     "iopub.execute_input": "2025-02-27T14:38:48.883377Z",
     "iopub.status.busy": "2025-02-27T14:38:48.883024Z",
     "iopub.status.idle": "2025-02-27T14:38:48.898955Z",
     "shell.execute_reply": "2025-02-27T14:38:48.897728Z"
    },
    "papermill": {
     "duration": 0.022536,
     "end_time": "2025-02-27T14:38:48.900822",
     "exception": false,
     "start_time": "2025-02-27T14:38:48.878286",
     "status": "completed"
    },
    "tags": []
   },
   "outputs": [
    {
     "name": "stdout",
     "output_type": "stream",
     "text": [
      "\n",
      "Confusion Matrix:\n",
      "[[ 2  8]\n",
      " [10 20]]\n",
      "\n",
      "Classification Report:\n",
      "               precision    recall  f1-score   support\n",
      "\n",
      "           0       0.17      0.20      0.18        10\n",
      "           1       0.71      0.67      0.69        30\n",
      "\n",
      "    accuracy                           0.55        40\n",
      "   macro avg       0.44      0.43      0.44        40\n",
      "weighted avg       0.58      0.55      0.56        40\n",
      "\n",
      "\n",
      "Name: Somesh Singh\n",
      "Roll Number: 233025921\n"
     ]
    }
   ],
   "source": [
    "# Confusion Matrix\n",
    "conf_matrix = confusion_matrix(y_test, y_pred)\n",
    "print(\"\\nConfusion Matrix:\")\n",
    "print(conf_matrix)\n",
    "\n",
    "# Classification Report\n",
    "report = classification_report(y_test, y_pred)\n",
    "print(\"\\nClassification Report:\\n\", report)\n",
    "\n",
    "# Print name & roll number\n",
    "print(\"\\nName: Somesh Singh\")\n",
    "print(\"Roll Number: 233025921\")"
   ]
  },
  {
   "cell_type": "markdown",
   "id": "ad035346",
   "metadata": {
    "papermill": {
     "duration": 0.00403,
     "end_time": "2025-02-27T14:38:48.908799",
     "exception": false,
     "start_time": "2025-02-27T14:38:48.904769",
     "status": "completed"
    },
    "tags": []
   },
   "source": [
    "# Confusion Matrix Heatmap"
   ]
  },
  {
   "cell_type": "code",
   "execution_count": 7,
   "id": "0c9b6198",
   "metadata": {
    "execution": {
     "iopub.execute_input": "2025-02-27T14:38:48.917515Z",
     "iopub.status.busy": "2025-02-27T14:38:48.917159Z",
     "iopub.status.idle": "2025-02-27T14:38:49.233536Z",
     "shell.execute_reply": "2025-02-27T14:38:49.232417Z"
    },
    "papermill": {
     "duration": 0.322629,
     "end_time": "2025-02-27T14:38:49.235165",
     "exception": false,
     "start_time": "2025-02-27T14:38:48.912536",
     "status": "completed"
    },
    "tags": []
   },
   "outputs": [
    {
     "data": {
      "image/png": "[encoded data removed]",
      "text/plain": [
       "<Figure size 600x400 with 2 Axes>"
      ]
     },
     "metadata": {},
     "output_type": "display_data"
    },
    {
     "name": "stdout",
     "output_type": "stream",
     "text": [
      "\n",
      "Name: Somesh Singh\n",
      "Roll Number: 233025921\n"
     ]
    }
   ],
   "source": [
    "# Plot Confusion Matrix\n",
    "plt.figure(figsize=(6,4))\n",
    "sns.heatmap(conf_matrix, annot=True, fmt=\"d\", cmap=\"Blues\")\n",
    "plt.xlabel(\"Predicted\")\n",
    "plt.ylabel(\"Actual\")\n",
    "plt.title(\"Confusion Matrix\")\n",
    "plt.show()\n",
    "\n",
    "# Print name & roll number\n",
    "print(\"\\nName: Somesh Singh\")\n",
    "print(\"Roll Number: 233025921\")\n"
   ]
  }
 ],
 "metadata": {
  "kaggle": {
   "accelerator": "none",
   "dataSources": [
    {
     "datasetId": 6754205,
     "sourceId": 10871356,
     "sourceType": "datasetVersion"
    }
   ],
   "dockerImageVersionId": 30918,
   "isGpuEnabled": false,
   "isInternetEnabled": true,
   "language": "python",
   "sourceType": "notebook"
  },
  "kernelspec": {
   "display_name": "Python 3",
   "language": "python",
   "name": "python3"
  },
  "language_info": {
   "codemirror_mode": {
    "name": "ipython",
    "version": 3
   },
   "file_extension": ".py",
   "mimetype": "text/x-python",
   "name": "python",
   "nbconvert_exporter": "python",
   "pygments_lexer": "ipython3",
   "version": "3.10.12"
  },
  "papermill": {
   "default_parameters": {},
   "duration": 8.130666,
   "end_time": "2025-02-27T14:38:50.059428",
   "environment_variables": {},
   "exception": null,
   "input_path": "__notebook__.ipynb",
   "output_path": "__notebook__.ipynb",
   "parameters": {},
   "start_time": "2025-02-27T14:38:41.928762",
   "version": "2.6.0"
  }
 },
 "nbformat": 4,
 "nbformat_minor": 5
}
