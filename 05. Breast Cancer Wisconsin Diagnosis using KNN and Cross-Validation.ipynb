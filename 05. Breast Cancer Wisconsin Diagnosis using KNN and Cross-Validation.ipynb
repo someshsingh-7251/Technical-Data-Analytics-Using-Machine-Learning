{
 "cells": [
  {
   "cell_type": "markdown",
   "id": "163fce36",
   "metadata": {
    "papermill": {
     "duration": 0.004139,
     "end_time": "2025-02-27T14:55:48.032783",
     "exception": false,
     "start_time": "2025-02-27T14:55:48.028644",
     "status": "completed"
    },
    "tags": []
   },
   "source": [
    "# *Lab Sheet-03*\n",
    "# **Task 1: Breast Cancer Wisconsin Diagnosis using KNN and Cross-Validation**"
   ]
  },
  {
   "cell_type": "markdown",
   "id": "f60c6331",
   "metadata": {
    "papermill": {
     "duration": 0.003046,
     "end_time": "2025-02-27T14:55:48.039601",
     "exception": false,
     "start_time": "2025-02-27T14:55:48.036555",
     "status": "completed"
    },
    "tags": []
   },
   "source": [
    "# Import Required Libraries"
   ]
  },
  {
   "cell_type": "code",
   "execution_count": 1,
   "id": "b35e27c8",
   "metadata": {
    "execution": {
     "iopub.execute_input": "2025-02-27T14:55:48.048177Z",
     "iopub.status.busy": "2025-02-27T14:55:48.047698Z",
     "iopub.status.idle": "2025-02-27T14:55:51.485596Z",
     "shell.execute_reply": "2025-02-27T14:55:51.484711Z"
    },
    "papermill": {
     "duration": 3.444559,
     "end_time": "2025-02-27T14:55:51.487445",
     "exception": false,
     "start_time": "2025-02-27T14:55:48.042886",
     "status": "completed"
    },
    "tags": []
   },
   "outputs": [],
   "source": [
    "import pandas as pd\n",
    "import numpy as np\n",
    "import matplotlib.pyplot as plt\n",
    "import seaborn as sns\n",
    "from sklearn.model_selection import train_test_split, cross_val_score\n",
    "from sklearn.preprocessing import StandardScaler\n",
    "from sklearn.neighbors import KNeighborsClassifier\n",
    "from sklearn.metrics import accuracy_score, confusion_matrix, classification_report\n",
    "from sklearn.datasets import load_breast_cancer"
   ]
  },
  {
   "cell_type": "markdown",
   "id": "88e9a6e8",
   "metadata": {
    "papermill": {
     "duration": 0.002959,
     "end_time": "2025-02-27T14:55:51.493892",
     "exception": false,
     "start_time": "2025-02-27T14:55:51.490933",
     "status": "completed"
    },
    "tags": []
   },
   "source": [
    "# Load the Dataset"
   ]
  },
  {
   "cell_type": "code",
   "execution_count": 2,
   "id": "bee99845",
   "metadata": {
    "execution": {
     "iopub.execute_input": "2025-02-27T14:55:51.501891Z",
     "iopub.status.busy": "2025-02-27T14:55:51.501302Z",
     "iopub.status.idle": "2025-02-27T14:55:51.544969Z",
     "shell.execute_reply": "2025-02-27T14:55:51.543645Z"
    },
    "papermill": {
     "duration": 0.049739,
     "end_time": "2025-02-27T14:55:51.546916",
     "exception": false,
     "start_time": "2025-02-27T14:55:51.497177",
     "status": "completed"
    },
    "tags": []
   },
   "outputs": [
    {
     "name": "stdout",
     "output_type": "stream",
     "text": [
      "First 5 rows of dataset:\n",
      "   mean radius  mean texture  mean perimeter  mean area  mean smoothness  \\\n",
      "0        17.99         10.38          122.80     1001.0          0.11840   \n",
      "1        20.57         17.77          132.90     1326.0          0.08474   \n",
      "2        19.69         21.25          130.00     1203.0          0.10960   \n",
      "3        11.42         20.38           77.58      386.1          0.14250   \n",
      "4        20.29         14.34          135.10     1297.0          0.10030   \n",
      "\n",
      "   mean compactness  mean concavity  mean concave points  mean symmetry  \\\n",
      "0           0.27760          0.3001              0.14710         0.2419   \n",
      "1           0.07864          0.0869              0.07017         0.1812   \n",
      "2           0.15990          0.1974              0.12790         0.2069   \n",
      "3           0.28390          0.2414              0.10520         0.2597   \n",
      "4           0.13280          0.1980              0.10430         0.1809   \n",
      "\n",
      "   mean fractal dimension  ...  worst texture  worst perimeter  worst area  \\\n",
      "0                 0.07871  ...          17.33           184.60      2019.0   \n",
      "1                 0.05667  ...          23.41           158.80      1956.0   \n",
      "2                 0.05999  ...          25.53           152.50      1709.0   \n",
      "3                 0.09744  ...          26.50            98.87       567.7   \n",
      "4                 0.05883  ...          16.67           152.20      1575.0   \n",
      "\n",
      "   worst smoothness  worst compactness  worst concavity  worst concave points  \\\n",
      "0            0.1622             0.6656           0.7119                0.2654   \n",
      "1            0.1238             0.1866           0.2416                0.1860   \n",
      "2            0.1444             0.4245           0.4504                0.2430   \n",
      "3            0.2098             0.8663           0.6869                0.2575   \n",
      "4            0.1374             0.2050           0.4000                0.1625   \n",
      "\n",
      "   worst symmetry  worst fractal dimension  target  \n",
      "0          0.4601                  0.11890       0  \n",
      "1          0.2750                  0.08902       0  \n",
      "2          0.3613                  0.08758       0  \n",
      "3          0.6638                  0.17300       0  \n",
      "4          0.2364                  0.07678       0  \n",
      "\n",
      "[5 rows x 31 columns]\n",
      "\n",
      "Name: Somesh Singh\n",
      "Roll Number: 233025921\n"
     ]
    }
   ],
   "source": [
    "# Load the Breast Cancer dataset\n",
    "data = load_breast_cancer()\n",
    "df = pd.DataFrame(data.data, columns=data.feature_names)\n",
    "\n",
    "# Add target variable\n",
    "df['target'] = data.target\n",
    "\n",
    "# Display first 5 rows\n",
    "print(\"First 5 rows of dataset:\")\n",
    "print(df.head())\n",
    "\n",
    "# Print name & roll number\n",
    "print(\"\\nName: Somesh Singh\")\n",
    "print(\"Roll Number: 233025921\")"
   ]
  },
  {
   "cell_type": "markdown",
   "id": "d50a5066",
   "metadata": {
    "papermill": {
     "duration": 0.003145,
     "end_time": "2025-02-27T14:55:51.553709",
     "exception": false,
     "start_time": "2025-02-27T14:55:51.550564",
     "status": "completed"
    },
    "tags": []
   },
   "source": [
    "# Data Preprocessing & Splitting"
   ]
  },
  {
   "cell_type": "code",
   "execution_count": 3,
   "id": "acae1caf",
   "metadata": {
    "execution": {
     "iopub.execute_input": "2025-02-27T14:55:51.561582Z",
     "iopub.status.busy": "2025-02-27T14:55:51.561172Z",
     "iopub.status.idle": "2025-02-27T14:55:51.596888Z",
     "shell.execute_reply": "2025-02-27T14:55:51.595451Z"
    },
    "papermill": {
     "duration": 0.041654,
     "end_time": "2025-02-27T14:55:51.598662",
     "exception": false,
     "start_time": "2025-02-27T14:55:51.557008",
     "status": "completed"
    },
    "tags": []
   },
   "outputs": [
    {
     "name": "stdout",
     "output_type": "stream",
     "text": [
      "Missing values in dataset:\n",
      "mean radius                0\n",
      "mean texture               0\n",
      "mean perimeter             0\n",
      "mean area                  0\n",
      "mean smoothness            0\n",
      "mean compactness           0\n",
      "mean concavity             0\n",
      "mean concave points        0\n",
      "mean symmetry              0\n",
      "mean fractal dimension     0\n",
      "radius error               0\n",
      "texture error              0\n",
      "perimeter error            0\n",
      "area error                 0\n",
      "smoothness error           0\n",
      "compactness error          0\n",
      "concavity error            0\n",
      "concave points error       0\n",
      "symmetry error             0\n",
      "fractal dimension error    0\n",
      "worst radius               0\n",
      "worst texture              0\n",
      "worst perimeter            0\n",
      "worst area                 0\n",
      "worst smoothness           0\n",
      "worst compactness          0\n",
      "worst concavity            0\n",
      "worst concave points       0\n",
      "worst symmetry             0\n",
      "worst fractal dimension    0\n",
      "target                     0\n",
      "dtype: int64\n",
      "\n",
      "Name: Somesh Singh\n",
      "Roll Number: 233025921\n"
     ]
    }
   ],
   "source": [
    "# Checking for missing values\n",
    "print(\"Missing values in dataset:\")\n",
    "print(df.isnull().sum())\n",
    "\n",
    "# Splitting dataset into features (X) and target (y)\n",
    "X = df.drop(columns=['target'])  # Features\n",
    "y = df['target']  # Target variable\n",
    "\n",
    "# Splitting into training and testing sets (80% train, 20% test)\n",
    "X_train, X_test, y_train, y_test = train_test_split(X, y, test_size=0.2, random_state=42)\n",
    "\n",
    "# Standardizing the data\n",
    "scaler = StandardScaler()\n",
    "X_train = scaler.fit_transform(X_train)\n",
    "X_test = scaler.transform(X_test)\n",
    "\n",
    "# Print name & roll number\n",
    "print(\"\\nName: Somesh Singh\")\n",
    "print(\"Roll Number: 233025921\")"
   ]
  },
  {
   "cell_type": "markdown",
   "id": "7a872251",
   "metadata": {
    "papermill": {
     "duration": 0.003303,
     "end_time": "2025-02-27T14:55:51.605541",
     "exception": false,
     "start_time": "2025-02-27T14:55:51.602238",
     "status": "completed"
    },
    "tags": []
   },
   "source": [
    "# Train KNN Model with Cross-Validation"
   ]
  },
  {
   "cell_type": "code",
   "execution_count": 4,
   "id": "db1a5c83",
   "metadata": {
    "execution": {
     "iopub.execute_input": "2025-02-27T14:55:51.613854Z",
     "iopub.status.busy": "2025-02-27T14:55:51.613412Z",
     "iopub.status.idle": "2025-02-27T14:55:53.160197Z",
     "shell.execute_reply": "2025-02-27T14:55:53.159053Z"
    },
    "papermill": {
     "duration": 1.553055,
     "end_time": "2025-02-27T14:55:53.162065",
     "exception": false,
     "start_time": "2025-02-27T14:55:51.609010",
     "status": "completed"
    },
    "tags": []
   },
   "outputs": [
    {
     "name": "stdout",
     "output_type": "stream",
     "text": [
      "Best K value: 7\n",
      "\n",
      "Name: Somesh Singh\n",
      "Roll Number: 233025921\n"
     ]
    }
   ],
   "source": [
    "# Finding the best K value using Cross-Validation\n",
    "k_values = range(1, 21)\n",
    "cv_scores = []\n",
    "\n",
    "for k in k_values:\n",
    "    knn = KNeighborsClassifier(n_neighbors=k)\n",
    "    scores = cross_val_score(knn, X_train, y_train, cv=10, scoring='accuracy')\n",
    "    cv_scores.append(scores.mean())\n",
    "\n",
    "# Choosing the best K\n",
    "best_k = k_values[np.argmax(cv_scores)]\n",
    "print(f\"Best K value: {best_k}\")\n",
    "\n",
    "# Training the final KNN model with the best K value\n",
    "model = KNeighborsClassifier(n_neighbors=best_k)\n",
    "model.fit(X_train, y_train)\n",
    "\n",
    "# Print name & roll number\n",
    "print(\"\\nName: Somesh Singh\")\n",
    "print(\"Roll Number: 233025921\")"
   ]
  },
  {
   "cell_type": "markdown",
   "id": "5a610768",
   "metadata": {
    "papermill": {
     "duration": 0.003488,
     "end_time": "2025-02-27T14:55:53.169706",
     "exception": false,
     "start_time": "2025-02-27T14:55:53.166218",
     "status": "completed"
    },
    "tags": []
   },
   "source": [
    "# Model Prediction & Evaluation"
   ]
  },
  {
   "cell_type": "code",
   "execution_count": 5,
   "id": "bc1dc557",
   "metadata": {
    "execution": {
     "iopub.execute_input": "2025-02-27T14:55:53.178489Z",
     "iopub.status.busy": "2025-02-27T14:55:53.178149Z",
     "iopub.status.idle": "2025-02-27T14:55:53.196706Z",
     "shell.execute_reply": "2025-02-27T14:55:53.195617Z"
    },
    "papermill": {
     "duration": 0.025178,
     "end_time": "2025-02-27T14:55:53.198595",
     "exception": false,
     "start_time": "2025-02-27T14:55:53.173417",
     "status": "completed"
    },
    "tags": []
   },
   "outputs": [
    {
     "name": "stdout",
     "output_type": "stream",
     "text": [
      "\n",
      "Model Accuracy: 0.9473684210526315\n",
      "\n",
      "Name: Somesh Singh\n",
      "Roll Number: 233025921\n"
     ]
    }
   ],
   "source": [
    "# Predictions\n",
    "y_pred = model.predict(X_test)\n",
    "\n",
    "# Model Accuracy\n",
    "accuracy = accuracy_score(y_test, y_pred)\n",
    "print(\"\\nModel Accuracy:\", accuracy)\n",
    "\n",
    "# Print name & roll number\n",
    "print(\"\\nName: Somesh Singh\")\n",
    "print(\"Roll Number: 233025921\")"
   ]
  },
  {
   "cell_type": "markdown",
   "id": "96c7e28b",
   "metadata": {
    "papermill": {
     "duration": 0.003492,
     "end_time": "2025-02-27T14:55:53.205995",
     "exception": false,
     "start_time": "2025-02-27T14:55:53.202503",
     "status": "completed"
    },
    "tags": []
   },
   "source": [
    "# Confusion Matrix & Classification Report"
   ]
  },
  {
   "cell_type": "code",
   "execution_count": 6,
   "id": "83075bda",
   "metadata": {
    "execution": {
     "iopub.execute_input": "2025-02-27T14:55:53.215178Z",
     "iopub.status.busy": "2025-02-27T14:55:53.214839Z",
     "iopub.status.idle": "2025-02-27T14:55:53.231000Z",
     "shell.execute_reply": "2025-02-27T14:55:53.229800Z"
    },
    "papermill": {
     "duration": 0.022709,
     "end_time": "2025-02-27T14:55:53.232791",
     "exception": false,
     "start_time": "2025-02-27T14:55:53.210082",
     "status": "completed"
    },
    "tags": []
   },
   "outputs": [
    {
     "name": "stdout",
     "output_type": "stream",
     "text": [
      "\n",
      "Confusion Matrix:\n",
      "[[40  3]\n",
      " [ 3 68]]\n",
      "\n",
      "Classification Report:\n",
      "               precision    recall  f1-score   support\n",
      "\n",
      "           0       0.93      0.93      0.93        43\n",
      "           1       0.96      0.96      0.96        71\n",
      "\n",
      "    accuracy                           0.95       114\n",
      "   macro avg       0.94      0.94      0.94       114\n",
      "weighted avg       0.95      0.95      0.95       114\n",
      "\n",
      "\n",
      "Name: Somesh Singh\n",
      "Roll Number: 233025921\n"
     ]
    }
   ],
   "source": [
    "# Confusion Matrix\n",
    "conf_matrix = confusion_matrix(y_test, y_pred)\n",
    "print(\"\\nConfusion Matrix:\")\n",
    "print(conf_matrix)\n",
    "\n",
    "# Classification Report\n",
    "report = classification_report(y_test, y_pred)\n",
    "print(\"\\nClassification Report:\\n\", report)\n",
    "\n",
    "# Print name & roll number\n",
    "print(\"\\nName: Somesh Singh\")\n",
    "print(\"Roll Number: 233025921\")"
   ]
  },
  {
   "cell_type": "markdown",
   "id": "b036184d",
   "metadata": {
    "papermill": {
     "duration": 0.003641,
     "end_time": "2025-02-27T14:55:53.240631",
     "exception": false,
     "start_time": "2025-02-27T14:55:53.236990",
     "status": "completed"
    },
    "tags": []
   },
   "source": [
    "# Confusion Matrix Heatmap"
   ]
  },
  {
   "cell_type": "code",
   "execution_count": 7,
   "id": "d116c420",
   "metadata": {
    "execution": {
     "iopub.execute_input": "2025-02-27T14:55:53.249450Z",
     "iopub.status.busy": "2025-02-27T14:55:53.249111Z",
     "iopub.status.idle": "2025-02-27T14:55:53.543210Z",
     "shell.execute_reply": "2025-02-27T14:55:53.542006Z"
    },
    "papermill": {
     "duration": 0.300599,
     "end_time": "2025-02-27T14:55:53.545007",
     "exception": false,
     "start_time": "2025-02-27T14:55:53.244408",
     "status": "completed"
    },
    "tags": []
   },
   "outputs": [
    {
     "data": {
      "image/png": "[encoded data removed]",
      "text/plain": [
       "<Figure size 600x400 with 2 Axes>"
      ]
     },
     "metadata": {},
     "output_type": "display_data"
    },
    {
     "name": "stdout",
     "output_type": "stream",
     "text": [
      "\n",
      "Name: Somesh Singh\n",
      "Roll Number: 233025921\n"
     ]
    }
   ],
   "source": [
    "# Plot Confusion Matrix\n",
    "plt.figure(figsize=(6,4))\n",
    "sns.heatmap(conf_matrix, annot=True, fmt=\"d\", cmap=\"Blues\")\n",
    "plt.xlabel(\"Predicted\")\n",
    "plt.ylabel(\"Actual\")\n",
    "plt.title(\"Confusion Matrix\")\n",
    "plt.show()\n",
    "\n",
    "# Print name & roll number\n",
    "print(\"\\nName: Somesh Singh\")\n",
    "print(\"Roll Number: 233025921\")"
   ]
  }
 ],
 "metadata": {
  "kaggle": {
   "accelerator": "none",
   "dataSources": [
    {
     "datasetId": 6754590,
     "sourceId": 10871831,
     "sourceType": "datasetVersion"
    }
   ],
   "dockerImageVersionId": 30918,
   "isGpuEnabled": false,
   "isInternetEnabled": true,
   "language": "python",
   "sourceType": "notebook"
  },
  "kernelspec": {
   "display_name": "Python 3",
   "language": "python",
   "name": "python3"
  },
  "language_info": {
   "codemirror_mode": {
    "name": "ipython",
    "version": 3
   },
   "file_extension": ".py",
   "mimetype": "text/x-python",
   "name": "python",
   "nbconvert_exporter": "python",
   "pygments_lexer": "ipython3",
   "version": "3.10.12"
  },
  "papermill": {
   "default_parameters": {},
   "duration": 9.211125,
   "end_time": "2025-02-27T14:55:54.270132",
   "environment_variables": {},
   "exception": null,
   "input_path": "__notebook__.ipynb",
   "output_path": "__notebook__.ipynb",
   "parameters": {},
   "start_time": "2025-02-27T14:55:45.059007",
   "version": "2.6.0"
  }
 },
 "nbformat": 4,
 "nbformat_minor": 5
}
