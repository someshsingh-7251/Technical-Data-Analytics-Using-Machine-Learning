{
 "cells": [
  {
   "cell_type": "markdown",
   "id": "055d8b88",
   "metadata": {
    "papermill": {
     "duration": 0.003884,
     "end_time": "2025-02-27T07:17:09.283133",
     "exception": false,
     "start_time": "2025-02-27T07:17:09.279249",
     "status": "completed"
    },
    "tags": []
   },
   "source": [
    "## **Heart Disease Prediction using Logistic Regression**"
   ]
  },
  {
   "cell_type": "markdown",
   "id": "c03d5bcf",
   "metadata": {
    "papermill": {
     "duration": 0.003136,
     "end_time": "2025-02-27T07:17:09.289996",
     "exception": false,
     "start_time": "2025-02-27T07:17:09.286860",
     "status": "completed"
    },
    "tags": []
   },
   "source": [
    "## Import Required Libraries"
   ]
  },
  {
   "cell_type": "code",
   "execution_count": 1,
   "id": "08edcb42",
   "metadata": {
    "_cell_guid": "b1076dfc-b9ad-4769-8c92-a6c4dae69d19",
    "_uuid": "8f2839f25d086af736a60e9eeb907d3b93b6e0e5",
    "execution": {
     "iopub.execute_input": "2025-02-27T07:17:09.298435Z",
     "iopub.status.busy": "2025-02-27T07:17:09.298037Z",
     "iopub.status.idle": "2025-02-27T07:17:13.219287Z",
     "shell.execute_reply": "2025-02-27T07:17:13.217853Z"
    },
    "papermill": {
     "duration": 3.92795,
     "end_time": "2025-02-27T07:17:13.221415",
     "exception": false,
     "start_time": "2025-02-27T07:17:09.293465",
     "status": "completed"
    },
    "tags": []
   },
   "outputs": [],
   "source": [
    "import pandas as pd\n",
    "import numpy as np\n",
    "import matplotlib.pyplot as plt\n",
    "import seaborn as sns\n",
    "from sklearn.model_selection import train_test_split\n",
    "from sklearn.preprocessing import StandardScaler\n",
    "from sklearn.linear_model import LogisticRegression\n",
    "from sklearn.metrics import accuracy_score, confusion_matrix, classification_report"
   ]
  },
  {
   "cell_type": "markdown",
   "id": "e6babd12",
   "metadata": {
    "papermill": {
     "duration": 0.003091,
     "end_time": "2025-02-27T07:17:13.228150",
     "exception": false,
     "start_time": "2025-02-27T07:17:13.225059",
     "status": "completed"
    },
    "tags": []
   },
   "source": [
    "## Load the Dataset"
   ]
  },
  {
   "cell_type": "code",
   "execution_count": 2,
   "id": "c3d8fc00",
   "metadata": {
    "execution": {
     "iopub.execute_input": "2025-02-27T07:17:13.236073Z",
     "iopub.status.busy": "2025-02-27T07:17:13.235569Z",
     "iopub.status.idle": "2025-02-27T07:17:13.275965Z",
     "shell.execute_reply": "2025-02-27T07:17:13.274520Z"
    },
    "papermill": {
     "duration": 0.04689,
     "end_time": "2025-02-27T07:17:13.278361",
     "exception": false,
     "start_time": "2025-02-27T07:17:13.231471",
     "status": "completed"
    },
    "tags": []
   },
   "outputs": [
    {
     "name": "stdout",
     "output_type": "stream",
     "text": [
      "First 5 rows of dataset:\n",
      "   age  sex  cp  trestbps  chol  fbs  restecg  thalach  exang  oldpeak  slope  \\\n",
      "0   52    1   0       125   212    0        1      168      0      1.0      2   \n",
      "1   53    1   0       140   203    1        0      155      1      3.1      0   \n",
      "2   70    1   0       145   174    0        1      125      1      2.6      0   \n",
      "3   61    1   0       148   203    0        1      161      0      0.0      2   \n",
      "4   62    0   0       138   294    1        1      106      0      1.9      1   \n",
      "\n",
      "   ca  thal  target  \n",
      "0   2     3       0  \n",
      "1   0     3       0  \n",
      "2   0     3       0  \n",
      "3   1     3       0  \n",
      "4   3     2       0  \n",
      "\n",
      "Name: Somesh Singh\n",
      "Roll Number: 233025921\n"
     ]
    }
   ],
   "source": [
    "# Load the dataset from an online source\n",
    "url = \"/kaggle/input/heart-disease-dataset/heart.csv\"\n",
    "df = pd.read_csv(url)\n",
    "\n",
    "# Display first 5 rows\n",
    "print(\"First 5 rows of dataset:\")\n",
    "print(df.head())\n",
    "\n",
    "# Print name & roll number\n",
    "print(\"\\nName: Somesh Singh\")\n",
    "print(\"Roll Number: 233025921\")"
   ]
  },
  {
   "cell_type": "markdown",
   "id": "363062f9",
   "metadata": {
    "papermill": {
     "duration": 0.003434,
     "end_time": "2025-02-27T07:17:13.287821",
     "exception": false,
     "start_time": "2025-02-27T07:17:13.284387",
     "status": "completed"
    },
    "tags": []
   },
   "source": [
    "## Data Preprocessing & Splitting"
   ]
  },
  {
   "cell_type": "code",
   "execution_count": 3,
   "id": "b0be1753",
   "metadata": {
    "execution": {
     "iopub.execute_input": "2025-02-27T07:17:13.296594Z",
     "iopub.status.busy": "2025-02-27T07:17:13.296077Z",
     "iopub.status.idle": "2025-02-27T07:17:13.358289Z",
     "shell.execute_reply": "2025-02-27T07:17:13.356940Z"
    },
    "papermill": {
     "duration": 0.068424,
     "end_time": "2025-02-27T07:17:13.359941",
     "exception": false,
     "start_time": "2025-02-27T07:17:13.291517",
     "status": "completed"
    },
    "tags": []
   },
   "outputs": [
    {
     "name": "stdout",
     "output_type": "stream",
     "text": [
      "Missing values in dataset:\n",
      "age         0\n",
      "sex         0\n",
      "cp          0\n",
      "trestbps    0\n",
      "chol        0\n",
      "fbs         0\n",
      "restecg     0\n",
      "thalach     0\n",
      "exang       0\n",
      "oldpeak     0\n",
      "slope       0\n",
      "ca          0\n",
      "thal        0\n",
      "target      0\n",
      "dtype: int64\n",
      "\n",
      "Name: Somesh Singh\n",
      "Roll Number: 233025921\n"
     ]
    }
   ],
   "source": [
    "# Checking for missing values\n",
    "print(\"Missing values in dataset:\")\n",
    "print(df.isnull().sum())\n",
    "\n",
    "# Splitting dataset into features (X) and target (y)\n",
    "X = df.drop(columns=['target'])  # Features\n",
    "y = df['target']  # Target variable\n",
    "\n",
    "# Splitting into training and testing sets (80% train, 20% test)\n",
    "X_train, X_test, y_train, y_test = train_test_split(X, y, test_size=0.2, random_state=42)\n",
    "\n",
    "# Standardizing the data\n",
    "scaler = StandardScaler()\n",
    "X_train = scaler.fit_transform(X_train)\n",
    "X_test = scaler.transform(X_test)\n",
    "\n",
    "# Print name & roll number\n",
    "print(\"\\nName: Somesh Singh\")\n",
    "print(\"Roll Number: 233025921\")"
   ]
  },
  {
   "cell_type": "markdown",
   "id": "d98a7f0d",
   "metadata": {
    "papermill": {
     "duration": 0.003357,
     "end_time": "2025-02-27T07:17:13.367026",
     "exception": false,
     "start_time": "2025-02-27T07:17:13.363669",
     "status": "completed"
    },
    "tags": []
   },
   "source": [
    "## Train Logistic Regression Model"
   ]
  },
  {
   "cell_type": "code",
   "execution_count": 4,
   "id": "ca436a17",
   "metadata": {
    "execution": {
     "iopub.execute_input": "2025-02-27T07:17:13.375195Z",
     "iopub.status.busy": "2025-02-27T07:17:13.374853Z",
     "iopub.status.idle": "2025-02-27T07:17:13.418480Z",
     "shell.execute_reply": "2025-02-27T07:17:13.417140Z"
    },
    "papermill": {
     "duration": 0.050004,
     "end_time": "2025-02-27T07:17:13.420539",
     "exception": false,
     "start_time": "2025-02-27T07:17:13.370535",
     "status": "completed"
    },
    "tags": []
   },
   "outputs": [
    {
     "name": "stdout",
     "output_type": "stream",
     "text": [
      "\n",
      "Name: Somesh Singh\n",
      "Roll Number: 233025921\n"
     ]
    }
   ],
   "source": [
    "# Training Logistic Regression Model\n",
    "model = LogisticRegression()\n",
    "model.fit(X_train, y_train)\n",
    "\n",
    "# Print name & roll number\n",
    "print(\"\\nName: Somesh Singh\")\n",
    "print(\"Roll Number: 233025921\")"
   ]
  },
  {
   "cell_type": "markdown",
   "id": "fbf60e80",
   "metadata": {
    "papermill": {
     "duration": 0.0035,
     "end_time": "2025-02-27T07:17:13.427718",
     "exception": false,
     "start_time": "2025-02-27T07:17:13.424218",
     "status": "completed"
    },
    "tags": []
   },
   "source": [
    "## Model Prediction & Evaluation"
   ]
  },
  {
   "cell_type": "code",
   "execution_count": 5,
   "id": "92a4ca8c",
   "metadata": {
    "execution": {
     "iopub.execute_input": "2025-02-27T07:17:13.436118Z",
     "iopub.status.busy": "2025-02-27T07:17:13.435794Z",
     "iopub.status.idle": "2025-02-27T07:17:13.443426Z",
     "shell.execute_reply": "2025-02-27T07:17:13.441962Z"
    },
    "papermill": {
     "duration": 0.013617,
     "end_time": "2025-02-27T07:17:13.444992",
     "exception": false,
     "start_time": "2025-02-27T07:17:13.431375",
     "status": "completed"
    },
    "tags": []
   },
   "outputs": [
    {
     "name": "stdout",
     "output_type": "stream",
     "text": [
      "\n",
      "Model Accuracy: 0.7951219512195122\n",
      "\n",
      "Name: Somesh Singh\n",
      "Roll Number: 233025921\n"
     ]
    }
   ],
   "source": [
    "# Predictions\n",
    "y_pred = model.predict(X_test)\n",
    "\n",
    "# Model Accuracy\n",
    "accuracy = accuracy_score(y_test, y_pred)\n",
    "print(\"\\nModel Accuracy:\", accuracy)\n",
    "\n",
    "# Print name & roll number\n",
    "print(\"\\nName: Somesh Singh\")\n",
    "print(\"Roll Number: 233025921\")"
   ]
  },
  {
   "cell_type": "markdown",
   "id": "ce7d7a26",
   "metadata": {
    "papermill": {
     "duration": 0.003375,
     "end_time": "2025-02-27T07:17:13.452155",
     "exception": false,
     "start_time": "2025-02-27T07:17:13.448780",
     "status": "completed"
    },
    "tags": []
   },
   "source": [
    "## Confusion Matrix & Classification Report"
   ]
  },
  {
   "cell_type": "code",
   "execution_count": 6,
   "id": "ee93b2a4",
   "metadata": {
    "execution": {
     "iopub.execute_input": "2025-02-27T07:17:13.460874Z",
     "iopub.status.busy": "2025-02-27T07:17:13.460509Z",
     "iopub.status.idle": "2025-02-27T07:17:13.476398Z",
     "shell.execute_reply": "2025-02-27T07:17:13.475252Z"
    },
    "papermill": {
     "duration": 0.022253,
     "end_time": "2025-02-27T07:17:13.478057",
     "exception": false,
     "start_time": "2025-02-27T07:17:13.455804",
     "status": "completed"
    },
    "tags": []
   },
   "outputs": [
    {
     "name": "stdout",
     "output_type": "stream",
     "text": [
      "\n",
      "Confusion Matrix:\n",
      "[[73 29]\n",
      " [13 90]]\n",
      "\n",
      "Classification Report:\n",
      "               precision    recall  f1-score   support\n",
      "\n",
      "           0       0.85      0.72      0.78       102\n",
      "           1       0.76      0.87      0.81       103\n",
      "\n",
      "    accuracy                           0.80       205\n",
      "   macro avg       0.80      0.79      0.79       205\n",
      "weighted avg       0.80      0.80      0.79       205\n",
      "\n",
      "\n",
      "Name: Somesh Singh\n",
      "Roll Number: 233025921\n"
     ]
    }
   ],
   "source": [
    "# Confusion Matrix\n",
    "conf_matrix = confusion_matrix(y_test, y_pred)\n",
    "print(\"\\nConfusion Matrix:\")\n",
    "print(conf_matrix)\n",
    "\n",
    "# Classification Report\n",
    "report = classification_report(y_test, y_pred)\n",
    "print(\"\\nClassification Report:\\n\", report)\n",
    "\n",
    "# Print name & roll number\n",
    "print(\"\\nName: Somesh Singh\")\n",
    "print(\"Roll Number: 233025921\")"
   ]
  },
  {
   "cell_type": "markdown",
   "id": "ca4320fe",
   "metadata": {
    "papermill": {
     "duration": 0.003593,
     "end_time": "2025-02-27T07:17:13.485542",
     "exception": false,
     "start_time": "2025-02-27T07:17:13.481949",
     "status": "completed"
    },
    "tags": []
   },
   "source": [
    "## Confusion Matrix Heatmap"
   ]
  },
  {
   "cell_type": "code",
   "execution_count": 7,
   "id": "470ea717",
   "metadata": {
    "execution": {
     "iopub.execute_input": "2025-02-27T07:17:13.494307Z",
     "iopub.status.busy": "2025-02-27T07:17:13.493950Z",
     "iopub.status.idle": "2025-02-27T07:17:13.815932Z",
     "shell.execute_reply": "2025-02-27T07:17:13.814809Z"
    },
    "papermill": {
     "duration": 0.328438,
     "end_time": "2025-02-27T07:17:13.817734",
     "exception": false,
     "start_time": "2025-02-27T07:17:13.489296",
     "status": "completed"
    },
    "tags": []
   },
   "outputs": [
    {
     "data": {
      "image/png": "[encoded data removed]",
      "text/plain": [
       "<Figure size 600x400 with 2 Axes>"
      ]
     },
     "metadata": {},
     "output_type": "display_data"
    },
    {
     "name": "stdout",
     "output_type": "stream",
     "text": [
      "\n",
      "Name: Somesh Singh\n",
      "Roll Number: 233025921\n"
     ]
    }
   ],
   "source": [
    "# Plot Confusion Matrix\n",
    "plt.figure(figsize=(6,4))\n",
    "sns.heatmap(conf_matrix, annot=True, fmt=\"d\", cmap=\"Blues\")\n",
    "plt.xlabel(\"Predicted\")\n",
    "plt.ylabel(\"Actual\")\n",
    "plt.title(\"Confusion Matrix\")\n",
    "plt.show()\n",
    "\n",
    "# Print name & roll number\n",
    "print(\"\\nName: Somesh Singh\")\n",
    "print(\"Roll Number: 233025921\")"
   ]
  }
 ],
 "metadata": {
  "kaggle": {
   "accelerator": "none",
   "dataSources": [
    {
     "datasetId": 6751555,
     "sourceId": 10867845,
     "sourceType": "datasetVersion"
    }
   ],
   "dockerImageVersionId": 30918,
   "isGpuEnabled": false,
   "isInternetEnabled": true,
   "language": "python",
   "sourceType": "notebook"
  },
  "kernelspec": {
   "display_name": "Python 3",
   "language": "python",
   "name": "python3"
  },
  "language_info": {
   "codemirror_mode": {
    "name": "ipython",
    "version": 3
   },
   "file_extension": ".py",
   "mimetype": "text/x-python",
   "name": "python",
   "nbconvert_exporter": "python",
   "pygments_lexer": "ipython3",
   "version": "3.10.12"
  },
  "papermill": {
   "default_parameters": {},
   "duration": 8.292551,
   "end_time": "2025-02-27T07:17:14.542215",
   "environment_variables": {},
   "exception": null,
   "input_path": "__notebook__.ipynb",
   "output_path": "__notebook__.ipynb",
   "parameters": {},
   "start_time": "2025-02-27T07:17:06.249664",
   "version": "2.6.0"
  }
 },
 "nbformat": 4,
 "nbformat_minor": 5
}
