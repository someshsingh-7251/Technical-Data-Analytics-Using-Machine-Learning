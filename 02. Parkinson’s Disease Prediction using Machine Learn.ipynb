{
 "cells": [
  {
   "cell_type": "markdown",
   "id": "b77f3a60",
   "metadata": {
    "papermill": {
     "duration": 0.003109,
     "end_time": "2025-02-27T15:22:35.188807",
     "exception": false,
     "start_time": "2025-02-27T15:22:35.185698",
     "status": "completed"
    },
    "tags": []
   },
   "source": [
    "# **Task 2: Parkinson’s Disease Prediction using Machine Learning**"
   ]
  },
  {
   "cell_type": "markdown",
   "id": "b6353c40",
   "metadata": {
    "papermill": {
     "duration": 0.002112,
     "end_time": "2025-02-27T15:22:35.193652",
     "exception": false,
     "start_time": "2025-02-27T15:22:35.191540",
     "status": "completed"
    },
    "tags": []
   },
   "source": [
    "## Import Required Libraries"
   ]
  },
  {
   "cell_type": "code",
   "execution_count": 1,
   "id": "06ac773f",
   "metadata": {
    "_cell_guid": "b1076dfc-b9ad-4769-8c92-a6c4dae69d19",
    "_uuid": "8f2839f25d086af736a60e9eeb907d3b93b6e0e5",
    "execution": {
     "iopub.execute_input": "2025-02-27T15:22:35.199370Z",
     "iopub.status.busy": "2025-02-27T15:22:35.199044Z",
     "iopub.status.idle": "2025-02-27T15:22:39.098270Z",
     "shell.execute_reply": "2025-02-27T15:22:39.097422Z"
    },
    "papermill": {
     "duration": 3.904031,
     "end_time": "2025-02-27T15:22:39.099900",
     "exception": false,
     "start_time": "2025-02-27T15:22:35.195869",
     "status": "completed"
    },
    "tags": []
   },
   "outputs": [],
   "source": [
    "import pandas as pd\n",
    "import numpy as np\n",
    "import matplotlib.pyplot as plt\n",
    "import seaborn as sns\n",
    "from sklearn.model_selection import train_test_split\n",
    "from sklearn.preprocessing import StandardScaler\n",
    "from sklearn.ensemble import RandomForestClassifier\n",
    "from sklearn.metrics import accuracy_score, confusion_matrix, classification_report"
   ]
  },
  {
   "cell_type": "markdown",
   "id": "4d1f740d",
   "metadata": {
    "papermill": {
     "duration": 0.00207,
     "end_time": "2025-02-27T15:22:39.104888",
     "exception": false,
     "start_time": "2025-02-27T15:22:39.102818",
     "status": "completed"
    },
    "tags": []
   },
   "source": [
    "## Load the Dataset"
   ]
  },
  {
   "cell_type": "code",
   "execution_count": 2,
   "id": "4ca17a5f",
   "metadata": {
    "execution": {
     "iopub.execute_input": "2025-02-27T15:22:39.110737Z",
     "iopub.status.busy": "2025-02-27T15:22:39.110199Z",
     "iopub.status.idle": "2025-02-27T15:22:39.160803Z",
     "shell.execute_reply": "2025-02-27T15:22:39.159644Z"
    },
    "papermill": {
     "duration": 0.055665,
     "end_time": "2025-02-27T15:22:39.162705",
     "exception": false,
     "start_time": "2025-02-27T15:22:39.107040",
     "status": "completed"
    },
    "tags": []
   },
   "outputs": [
    {
     "name": "stdout",
     "output_type": "stream",
     "text": [
      "First 5 rows of dataset:\n",
      "             name  MDVP:Fo(Hz)  MDVP:Fhi(Hz)  MDVP:Flo(Hz)  MDVP:Jitter(%)  \\\n",
      "0  phon_R01_S01_1      119.992       157.302        74.997         0.00784   \n",
      "1  phon_R01_S01_2      122.400       148.650       113.819         0.00968   \n",
      "2  phon_R01_S01_3      116.682       131.111       111.555         0.01050   \n",
      "3  phon_R01_S01_4      116.676       137.871       111.366         0.00997   \n",
      "4  phon_R01_S01_5      116.014       141.781       110.655         0.01284   \n",
      "\n",
      "   MDVP:Jitter(Abs)  MDVP:RAP  MDVP:PPQ  Jitter:DDP  MDVP:Shimmer  ...  \\\n",
      "0           0.00007   0.00370   0.00554     0.01109       0.04374  ...   \n",
      "1           0.00008   0.00465   0.00696     0.01394       0.06134  ...   \n",
      "2           0.00009   0.00544   0.00781     0.01633       0.05233  ...   \n",
      "3           0.00009   0.00502   0.00698     0.01505       0.05492  ...   \n",
      "4           0.00011   0.00655   0.00908     0.01966       0.06425  ...   \n",
      "\n",
      "   Shimmer:DDA      NHR     HNR  status      RPDE       DFA   spread1  \\\n",
      "0      0.06545  0.02211  21.033       1  0.414783  0.815285 -4.813031   \n",
      "1      0.09403  0.01929  19.085       1  0.458359  0.819521 -4.075192   \n",
      "2      0.08270  0.01309  20.651       1  0.429895  0.825288 -4.443179   \n",
      "3      0.08771  0.01353  20.644       1  0.434969  0.819235 -4.117501   \n",
      "4      0.10470  0.01767  19.649       1  0.417356  0.823484 -3.747787   \n",
      "\n",
      "    spread2        D2       PPE  \n",
      "0  0.266482  2.301442  0.284654  \n",
      "1  0.335590  2.486855  0.368674  \n",
      "2  0.311173  2.342259  0.332634  \n",
      "3  0.334147  2.405554  0.368975  \n",
      "4  0.234513  2.332180  0.410335  \n",
      "\n",
      "[5 rows x 24 columns]\n",
      "\n",
      "Name: Somesh Singh\n",
      "Roll Number: 233025921\n"
     ]
    }
   ],
   "source": [
    "# Load the dataset\n",
    "url = \"/kaggle/input/parkinsons-disease-dataset/parkinsons.data\"\n",
    "df = pd.read_csv(url)\n",
    "\n",
    "# Display first 5 rows\n",
    "print(\"First 5 rows of dataset:\")\n",
    "print(df.head())\n",
    "\n",
    "# Print name & roll number\n",
    "print(\"\\nName: Somesh Singh\")\n",
    "print(\"Roll Number: 233025921\")"
   ]
  },
  {
   "cell_type": "markdown",
   "id": "7a02388b",
   "metadata": {
    "papermill": {
     "duration": 0.002257,
     "end_time": "2025-02-27T15:22:39.168344",
     "exception": false,
     "start_time": "2025-02-27T15:22:39.166087",
     "status": "completed"
    },
    "tags": []
   },
   "source": [
    "## Data Preprocessing & Splitting"
   ]
  },
  {
   "cell_type": "code",
   "execution_count": 3,
   "id": "5ea3e26f",
   "metadata": {
    "execution": {
     "iopub.execute_input": "2025-02-27T15:22:39.174354Z",
     "iopub.status.busy": "2025-02-27T15:22:39.174004Z",
     "iopub.status.idle": "2025-02-27T15:22:39.193123Z",
     "shell.execute_reply": "2025-02-27T15:22:39.191883Z"
    },
    "papermill": {
     "duration": 0.023645,
     "end_time": "2025-02-27T15:22:39.194364",
     "exception": false,
     "start_time": "2025-02-27T15:22:39.170719",
     "status": "completed"
    },
    "tags": []
   },
   "outputs": [
    {
     "name": "stdout",
     "output_type": "stream",
     "text": [
      "Missing values in dataset:\n",
      "name                0\n",
      "MDVP:Fo(Hz)         0\n",
      "MDVP:Fhi(Hz)        0\n",
      "MDVP:Flo(Hz)        0\n",
      "MDVP:Jitter(%)      0\n",
      "MDVP:Jitter(Abs)    0\n",
      "MDVP:RAP            0\n",
      "MDVP:PPQ            0\n",
      "Jitter:DDP          0\n",
      "MDVP:Shimmer        0\n",
      "MDVP:Shimmer(dB)    0\n",
      "Shimmer:APQ3        0\n",
      "Shimmer:APQ5        0\n",
      "MDVP:APQ            0\n",
      "Shimmer:DDA         0\n",
      "NHR                 0\n",
      "HNR                 0\n",
      "status              0\n",
      "RPDE                0\n",
      "DFA                 0\n",
      "spread1             0\n",
      "spread2             0\n",
      "D2                  0\n",
      "PPE                 0\n",
      "dtype: int64\n",
      "\n",
      "Name: Somesh Singh\n",
      "Roll Number: 233025921\n"
     ]
    }
   ],
   "source": [
    "# Checking for missing values\n",
    "print(\"Missing values in dataset:\")\n",
    "print(df.isnull().sum())\n",
    "\n",
    "# Dropping 'name' column since it's not useful for prediction\n",
    "df = df.drop(columns=['name'])\n",
    "\n",
    "# Splitting dataset into features (X) and target (y)\n",
    "X = df.drop(columns=['status'])  # Features\n",
    "y = df['status']  # Target variable\n",
    "\n",
    "# Splitting into training and testing sets (80% train, 20% test)\n",
    "X_train, X_test, y_train, y_test = train_test_split(X, y, test_size=0.2, random_state=42)\n",
    "\n",
    "# Standardizing the data\n",
    "scaler = StandardScaler()\n",
    "X_train = scaler.fit_transform(X_train)\n",
    "X_test = scaler.transform(X_test)\n",
    "\n",
    "# Print name & roll number\n",
    "print(\"\\nName: Somesh Singh\")\n",
    "print(\"Roll Number: 233025921\")"
   ]
  },
  {
   "cell_type": "markdown",
   "id": "b4614c8f",
   "metadata": {
    "papermill": {
     "duration": 0.002341,
     "end_time": "2025-02-27T15:22:39.199512",
     "exception": false,
     "start_time": "2025-02-27T15:22:39.197171",
     "status": "completed"
    },
    "tags": []
   },
   "source": [
    "## Train Random Forest Classifier Model"
   ]
  },
  {
   "cell_type": "code",
   "execution_count": 4,
   "id": "6b493bd8",
   "metadata": {
    "execution": {
     "iopub.execute_input": "2025-02-27T15:22:39.205471Z",
     "iopub.status.busy": "2025-02-27T15:22:39.205120Z",
     "iopub.status.idle": "2025-02-27T15:22:39.322729Z",
     "shell.execute_reply": "2025-02-27T15:22:39.321817Z"
    },
    "papermill": {
     "duration": 0.12228,
     "end_time": "2025-02-27T15:22:39.324221",
     "exception": false,
     "start_time": "2025-02-27T15:22:39.201941",
     "status": "completed"
    },
    "tags": []
   },
   "outputs": [
    {
     "name": "stdout",
     "output_type": "stream",
     "text": [
      "\n",
      "Name:  Singh\n",
      "Roll Number: 233025921\n"
     ]
    }
   ],
   "source": [
    "# Training Random Forest Classifier Model\n",
    "model = RandomForestClassifier(n_estimators=100, random_state=42)\n",
    "model.fit(X_train, y_train)\n",
    "\n",
    "# Print name & roll number\n",
    "print(\"\\nName:  Singh\")\n",
    "print(\"Roll Number: 233025921\")"
   ]
  },
  {
   "cell_type": "markdown",
   "id": "e4f65f2f",
   "metadata": {
    "papermill": {
     "duration": 0.002352,
     "end_time": "2025-02-27T15:22:39.329708",
     "exception": false,
     "start_time": "2025-02-27T15:22:39.327356",
     "status": "completed"
    },
    "tags": []
   },
   "source": [
    "## Model Prediction & Evaluation"
   ]
  },
  {
   "cell_type": "code",
   "execution_count": 5,
   "id": "e674b747",
   "metadata": {
    "execution": {
     "iopub.execute_input": "2025-02-27T15:22:39.335964Z",
     "iopub.status.busy": "2025-02-27T15:22:39.335676Z",
     "iopub.status.idle": "2025-02-27T15:22:39.350465Z",
     "shell.execute_reply": "2025-02-27T15:22:39.349038Z"
    },
    "papermill": {
     "duration": 0.019788,
     "end_time": "2025-02-27T15:22:39.352136",
     "exception": false,
     "start_time": "2025-02-27T15:22:39.332348",
     "status": "completed"
    },
    "tags": []
   },
   "outputs": [
    {
     "name": "stdout",
     "output_type": "stream",
     "text": [
      "\n",
      "Model Accuracy: 0.9487179487179487\n",
      "\n",
      "Name: Somesh Singh\n",
      "Roll Number: 233025921\n"
     ]
    }
   ],
   "source": [
    "# Predictions\n",
    "y_pred = model.predict(X_test)\n",
    "\n",
    "# Model Accuracy\n",
    "accuracy = accuracy_score(y_test, y_pred)\n",
    "print(\"\\nModel Accuracy:\", accuracy)\n",
    "\n",
    "# Print name & roll number\n",
    "print(\"\\nName: Somesh Singh\")\n",
    "print(\"Roll Number: 233025921\")"
   ]
  },
  {
   "cell_type": "markdown",
   "id": "919cf65f",
   "metadata": {
    "papermill": {
     "duration": 0.002518,
     "end_time": "2025-02-27T15:22:39.357757",
     "exception": false,
     "start_time": "2025-02-27T15:22:39.355239",
     "status": "completed"
    },
    "tags": []
   },
   "source": [
    "## Confusion Matrix & Classification Report"
   ]
  },
  {
   "cell_type": "code",
   "execution_count": 6,
   "id": "ba5d6f82",
   "metadata": {
    "execution": {
     "iopub.execute_input": "2025-02-27T15:22:39.364244Z",
     "iopub.status.busy": "2025-02-27T15:22:39.363938Z",
     "iopub.status.idle": "2025-02-27T15:22:39.377110Z",
     "shell.execute_reply": "2025-02-27T15:22:39.375793Z"
    },
    "papermill": {
     "duration": 0.018167,
     "end_time": "2025-02-27T15:22:39.378536",
     "exception": false,
     "start_time": "2025-02-27T15:22:39.360369",
     "status": "completed"
    },
    "tags": []
   },
   "outputs": [
    {
     "name": "stdout",
     "output_type": "stream",
     "text": [
      "\n",
      "Confusion Matrix:\n",
      "[[ 5  2]\n",
      " [ 0 32]]\n",
      "\n",
      "Classification Report:\n",
      "               precision    recall  f1-score   support\n",
      "\n",
      "           0       1.00      0.71      0.83         7\n",
      "           1       0.94      1.00      0.97        32\n",
      "\n",
      "    accuracy                           0.95        39\n",
      "   macro avg       0.97      0.86      0.90        39\n",
      "weighted avg       0.95      0.95      0.95        39\n",
      "\n",
      "\n",
      "Name: Somesh Singh\n",
      "Roll Number: 233025921\n"
     ]
    }
   ],
   "source": [
    "# Confusion Matrix\n",
    "conf_matrix = confusion_matrix(y_test, y_pred)\n",
    "print(\"\\nConfusion Matrix:\")\n",
    "print(conf_matrix)\n",
    "\n",
    "# Classification Report\n",
    "report = classification_report(y_test, y_pred)\n",
    "print(\"\\nClassification Report:\\n\", report)\n",
    "\n",
    "# Print name & roll number\n",
    "print(\"\\nName: Somesh Singh\")\n",
    "print(\"Roll Number: 233025921\")"
   ]
  },
  {
   "cell_type": "markdown",
   "id": "5e5366a6",
   "metadata": {
    "papermill": {
     "duration": 0.002408,
     "end_time": "2025-02-27T15:22:39.383956",
     "exception": false,
     "start_time": "2025-02-27T15:22:39.381548",
     "status": "completed"
    },
    "tags": []
   },
   "source": [
    "## Confusion Matrix Heatmap"
   ]
  },
  {
   "cell_type": "code",
   "execution_count": 7,
   "id": "a3394ba2",
   "metadata": {
    "execution": {
     "iopub.execute_input": "2025-02-27T15:22:39.390191Z",
     "iopub.status.busy": "2025-02-27T15:22:39.389887Z",
     "iopub.status.idle": "2025-02-27T15:22:39.647762Z",
     "shell.execute_reply": "2025-02-27T15:22:39.646381Z"
    },
    "papermill": {
     "duration": 0.262426,
     "end_time": "2025-02-27T15:22:39.648913",
     "exception": false,
     "start_time": "2025-02-27T15:22:39.386487",
     "status": "completed"
    },
    "tags": []
   },
   "outputs": [
    {
     "data": {
      "image/png": "[encoded data removed]",
      "text/plain": [
       "<Figure size 600x400 with 2 Axes>"
      ]
     },
     "metadata": {},
     "output_type": "display_data"
    },
    {
     "name": "stdout",
     "output_type": "stream",
     "text": [
      "\n",
      "Name: Somesh Singh\n",
      "Roll Number: 233025921\n"
     ]
    }
   ],
   "source": [
    "# Plot Confusion Matrix\n",
    "plt.figure(figsize=(6,4))\n",
    "sns.heatmap(conf_matrix, annot=True, fmt=\"d\", cmap=\"Blues\")\n",
    "plt.xlabel(\"Predicted\")\n",
    "plt.ylabel(\"Actual\")\n",
    "plt.title(\"Confusion Matrix\")\n",
    "plt.show()\n",
    "\n",
    "# Print name & roll number\n",
    "print(\"\\nName: Somesh Singh\")\n",
    "print(\"Roll Number: 233025921\")"
   ]
  }
 ],
 "metadata": {
  "kaggle": {
   "accelerator": "none",
   "dataSources": [
    {
     "datasetId": 6752128,
     "sourceId": 10868652,
     "sourceType": "datasetVersion"
    }
   ],
   "dockerImageVersionId": 30918,
   "isGpuEnabled": false,
   "isInternetEnabled": true,
   "language": "python",
   "sourceType": "notebook"
  },
  "kernelspec": {
   "display_name": "Python 3",
   "language": "python",
   "name": "python3"
  },
  "language_info": {
   "codemirror_mode": {
    "name": "ipython",
    "version": 3
   },
   "file_extension": ".py",
   "mimetype": "text/x-python",
   "name": "python",
   "nbconvert_exporter": "python",
   "pygments_lexer": "ipython3",
   "version": "3.10.12"
  },
  "papermill": {
   "default_parameters": {},
   "duration": 7.624191,
   "end_time": "2025-02-27T15:22:40.371853",
   "environment_variables": {},
   "exception": null,
   "input_path": "__notebook__.ipynb",
   "output_path": "__notebook__.ipynb",
   "parameters": {},
   "start_time": "2025-02-27T15:22:32.747662",
   "version": "2.6.0"
  }
 },
 "nbformat": 4,
 "nbformat_minor": 5
}
