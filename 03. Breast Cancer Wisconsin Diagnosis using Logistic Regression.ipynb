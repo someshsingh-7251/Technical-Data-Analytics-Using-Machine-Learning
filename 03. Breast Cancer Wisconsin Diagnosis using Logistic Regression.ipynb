{
 "cells": [
  {
   "cell_type": "markdown",
   "id": "6d113e9f",
   "metadata": {
    "papermill": {
     "duration": 0.004436,
     "end_time": "2025-02-27T09:10:31.149113",
     "exception": false,
     "start_time": "2025-02-27T09:10:31.144677",
     "status": "completed"
    },
    "tags": []
   },
   "source": [
    "# **Breast Cancer Wisconsin Diagnosis using Logistic Regression**"
   ]
  },
  {
   "cell_type": "markdown",
   "id": "c75f5718",
   "metadata": {
    "papermill": {
     "duration": 0.003388,
     "end_time": "2025-02-27T09:10:31.156600",
     "exception": false,
     "start_time": "2025-02-27T09:10:31.153212",
     "status": "completed"
    },
    "tags": []
   },
   "source": [
    "## Import Required Libraries"
   ]
  },
  {
   "cell_type": "code",
   "execution_count": 1,
   "id": "1cb6067f",
   "metadata": {
    "_cell_guid": "b1076dfc-b9ad-4769-8c92-a6c4dae69d19",
    "_uuid": "8f2839f25d086af736a60e9eeb907d3b93b6e0e5",
    "execution": {
     "iopub.execute_input": "2025-02-27T09:10:31.164844Z",
     "iopub.status.busy": "2025-02-27T09:10:31.164527Z",
     "iopub.status.idle": "2025-02-27T09:10:34.447063Z",
     "shell.execute_reply": "2025-02-27T09:10:34.445991Z"
    },
    "papermill": {
     "duration": 3.28836,
     "end_time": "2025-02-27T09:10:34.449011",
     "exception": false,
     "start_time": "2025-02-27T09:10:31.160651",
     "status": "completed"
    },
    "tags": []
   },
   "outputs": [],
   "source": [
    "import pandas as pd\n",
    "import numpy as np\n",
    "import matplotlib.pyplot as plt\n",
    "import seaborn as sns\n",
    "from sklearn.model_selection import train_test_split\n",
    "from sklearn.preprocessing import StandardScaler\n",
    "from sklearn.linear_model import LogisticRegression\n",
    "from sklearn.metrics import accuracy_score, confusion_matrix, classification_report"
   ]
  },
  {
   "cell_type": "markdown",
   "id": "196b5068",
   "metadata": {
    "papermill": {
     "duration": 0.002758,
     "end_time": "2025-02-27T09:10:34.455212",
     "exception": false,
     "start_time": "2025-02-27T09:10:34.452454",
     "status": "completed"
    },
    "tags": []
   },
   "source": [
    "## Load the Dataset"
   ]
  },
  {
   "cell_type": "code",
   "execution_count": 2,
   "id": "52836e12",
   "metadata": {
    "execution": {
     "iopub.execute_input": "2025-02-27T09:10:34.462410Z",
     "iopub.status.busy": "2025-02-27T09:10:34.461936Z",
     "iopub.status.idle": "2025-02-27T09:10:34.618707Z",
     "shell.execute_reply": "2025-02-27T09:10:34.617531Z"
    },
    "papermill": {
     "duration": 0.162508,
     "end_time": "2025-02-27T09:10:34.620660",
     "exception": false,
     "start_time": "2025-02-27T09:10:34.458152",
     "status": "completed"
    },
    "tags": []
   },
   "outputs": [
    {
     "name": "stdout",
     "output_type": "stream",
     "text": [
      "First 5 rows of dataset:\n",
      "   mean radius  mean texture  mean perimeter  mean area  mean smoothness  \\\n",
      "0        17.99         10.38          122.80     1001.0          0.11840   \n",
      "1        20.57         17.77          132.90     1326.0          0.08474   \n",
      "2        19.69         21.25          130.00     1203.0          0.10960   \n",
      "3        11.42         20.38           77.58      386.1          0.14250   \n",
      "4        20.29         14.34          135.10     1297.0          0.10030   \n",
      "\n",
      "   mean compactness  mean concavity  mean concave points  mean symmetry  \\\n",
      "0           0.27760          0.3001              0.14710         0.2419   \n",
      "1           0.07864          0.0869              0.07017         0.1812   \n",
      "2           0.15990          0.1974              0.12790         0.2069   \n",
      "3           0.28390          0.2414              0.10520         0.2597   \n",
      "4           0.13280          0.1980              0.10430         0.1809   \n",
      "\n",
      "   mean fractal dimension  ...  worst texture  worst perimeter  worst area  \\\n",
      "0                 0.07871  ...          17.33           184.60      2019.0   \n",
      "1                 0.05667  ...          23.41           158.80      1956.0   \n",
      "2                 0.05999  ...          25.53           152.50      1709.0   \n",
      "3                 0.09744  ...          26.50            98.87       567.7   \n",
      "4                 0.05883  ...          16.67           152.20      1575.0   \n",
      "\n",
      "   worst smoothness  worst compactness  worst concavity  worst concave points  \\\n",
      "0            0.1622             0.6656           0.7119                0.2654   \n",
      "1            0.1238             0.1866           0.2416                0.1860   \n",
      "2            0.1444             0.4245           0.4504                0.2430   \n",
      "3            0.2098             0.8663           0.6869                0.2575   \n",
      "4            0.1374             0.2050           0.4000                0.1625   \n",
      "\n",
      "   worst symmetry  worst fractal dimension  target  \n",
      "0          0.4601                  0.11890       0  \n",
      "1          0.2750                  0.08902       0  \n",
      "2          0.3613                  0.08758       0  \n",
      "3          0.6638                  0.17300       0  \n",
      "4          0.2364                  0.07678       0  \n",
      "\n",
      "[5 rows x 31 columns]\n",
      "\n",
      "Name: Somesh Singh\n",
      "Roll Number: 233025921\n"
     ]
    }
   ],
   "source": [
    "# Load the Breast Cancer Wisconsin dataset\n",
    "from sklearn.datasets import load_breast_cancer\n",
    "\n",
    "# Load the dataset\n",
    "data = load_breast_cancer()\n",
    "df = pd.DataFrame(data.data, columns=data.feature_names)\n",
    "\n",
    "# Add target variable\n",
    "df['target'] = data.target\n",
    "\n",
    "# Display first 5 rows\n",
    "print(\"First 5 rows of dataset:\")\n",
    "print(df.head())\n",
    "\n",
    "# Print name & roll number\n",
    "print(\"\\nName: Somesh Singh\")\n",
    "print(\"Roll Number: 233025921\")"
   ]
  },
  {
   "cell_type": "markdown",
   "id": "211beeb9",
   "metadata": {
    "papermill": {
     "duration": 0.002925,
     "end_time": "2025-02-27T09:10:34.627286",
     "exception": false,
     "start_time": "2025-02-27T09:10:34.624361",
     "status": "completed"
    },
    "tags": []
   },
   "source": [
    "## Data Preprocessing & Splitting"
   ]
  },
  {
   "cell_type": "code",
   "execution_count": 3,
   "id": "877ae341",
   "metadata": {
    "execution": {
     "iopub.execute_input": "2025-02-27T09:10:34.634463Z",
     "iopub.status.busy": "2025-02-27T09:10:34.634150Z",
     "iopub.status.idle": "2025-02-27T09:10:34.676145Z",
     "shell.execute_reply": "2025-02-27T09:10:34.674996Z"
    },
    "papermill": {
     "duration": 0.04753,
     "end_time": "2025-02-27T09:10:34.677793",
     "exception": false,
     "start_time": "2025-02-27T09:10:34.630263",
     "status": "completed"
    },
    "tags": []
   },
   "outputs": [
    {
     "name": "stdout",
     "output_type": "stream",
     "text": [
      "Missing values in dataset:\n",
      "mean radius                0\n",
      "mean texture               0\n",
      "mean perimeter             0\n",
      "mean area                  0\n",
      "mean smoothness            0\n",
      "mean compactness           0\n",
      "mean concavity             0\n",
      "mean concave points        0\n",
      "mean symmetry              0\n",
      "mean fractal dimension     0\n",
      "radius error               0\n",
      "texture error              0\n",
      "perimeter error            0\n",
      "area error                 0\n",
      "smoothness error           0\n",
      "compactness error          0\n",
      "concavity error            0\n",
      "concave points error       0\n",
      "symmetry error             0\n",
      "fractal dimension error    0\n",
      "worst radius               0\n",
      "worst texture              0\n",
      "worst perimeter            0\n",
      "worst area                 0\n",
      "worst smoothness           0\n",
      "worst compactness          0\n",
      "worst concavity            0\n",
      "worst concave points       0\n",
      "worst symmetry             0\n",
      "worst fractal dimension    0\n",
      "target                     0\n",
      "dtype: int64\n",
      "\n",
      "Name: Somesh Singh\n",
      "Roll Number: 233025921\n"
     ]
    }
   ],
   "source": [
    "# Checking for missing values\n",
    "print(\"Missing values in dataset:\")\n",
    "print(df.isnull().sum())\n",
    "\n",
    "# Splitting dataset into features (X) and target (y)\n",
    "X = df.drop(columns=['target'])  # Features\n",
    "y = df['target']  # Target variable\n",
    "\n",
    "# Splitting into training and testing sets (80% train, 20% test)\n",
    "X_train, X_test, y_train, y_test = train_test_split(X, y, test_size=0.2, random_state=42)\n",
    "\n",
    "# Standardizing the data\n",
    "scaler = StandardScaler()\n",
    "X_train = scaler.fit_transform(X_train)\n",
    "X_test = scaler.transform(X_test)\n",
    "\n",
    "# Print name & roll number\n",
    "print(\"\\nName: Somesh Singh\")\n",
    "print(\"Roll Number: 233025921\")"
   ]
  },
  {
   "cell_type": "markdown",
   "id": "0a6754a6",
   "metadata": {
    "papermill": {
     "duration": 0.003,
     "end_time": "2025-02-27T09:10:34.684262",
     "exception": false,
     "start_time": "2025-02-27T09:10:34.681262",
     "status": "completed"
    },
    "tags": []
   },
   "source": [
    "## Train Logistic Regression Model"
   ]
  },
  {
   "cell_type": "code",
   "execution_count": 4,
   "id": "28eabce6",
   "metadata": {
    "execution": {
     "iopub.execute_input": "2025-02-27T09:10:34.691333Z",
     "iopub.status.busy": "2025-02-27T09:10:34.691025Z",
     "iopub.status.idle": "2025-02-27T09:10:34.724106Z",
     "shell.execute_reply": "2025-02-27T09:10:34.722905Z"
    },
    "papermill": {
     "duration": 0.038657,
     "end_time": "2025-02-27T09:10:34.725972",
     "exception": false,
     "start_time": "2025-02-27T09:10:34.687315",
     "status": "completed"
    },
    "tags": []
   },
   "outputs": [
    {
     "name": "stdout",
     "output_type": "stream",
     "text": [
      "\n",
      "Name: Somesh Singh\n",
      "Roll Number: 233025921\n"
     ]
    }
   ],
   "source": [
    "# Training Logistic Regression Model\n",
    "model = LogisticRegression()\n",
    "model.fit(X_train, y_train)\n",
    "\n",
    "# Print name & roll number\n",
    "print(\"\\nName: Somesh Singh\")\n",
    "print(\"Roll Number: 233025921\")"
   ]
  },
  {
   "cell_type": "markdown",
   "id": "efe31f0c",
   "metadata": {
    "papermill": {
     "duration": 0.003042,
     "end_time": "2025-02-27T09:10:34.732411",
     "exception": false,
     "start_time": "2025-02-27T09:10:34.729369",
     "status": "completed"
    },
    "tags": []
   },
   "source": [
    "## Model Prediction & Evaluation"
   ]
  },
  {
   "cell_type": "code",
   "execution_count": 5,
   "id": "1787c8b7",
   "metadata": {
    "execution": {
     "iopub.execute_input": "2025-02-27T09:10:34.739989Z",
     "iopub.status.busy": "2025-02-27T09:10:34.739636Z",
     "iopub.status.idle": "2025-02-27T09:10:34.746620Z",
     "shell.execute_reply": "2025-02-27T09:10:34.745528Z"
    },
    "papermill": {
     "duration": 0.012294,
     "end_time": "2025-02-27T09:10:34.748007",
     "exception": false,
     "start_time": "2025-02-27T09:10:34.735713",
     "status": "completed"
    },
    "tags": []
   },
   "outputs": [
    {
     "name": "stdout",
     "output_type": "stream",
     "text": [
      "\n",
      "Model Accuracy: 0.9736842105263158\n",
      "\n",
      "Name: Somesh Singh\n",
      "Roll Number: 233025921\n"
     ]
    }
   ],
   "source": [
    "# Predictions\n",
    "y_pred = model.predict(X_test)\n",
    "\n",
    "# Model Accuracy\n",
    "accuracy = accuracy_score(y_test, y_pred)\n",
    "print(\"\\nModel Accuracy:\", accuracy)\n",
    "\n",
    "# Print name & roll number\n",
    "print(\"\\nName: Somesh Singh\")\n",
    "print(\"Roll Number: 233025921\")"
   ]
  },
  {
   "cell_type": "markdown",
   "id": "3c28e4d5",
   "metadata": {
    "papermill": {
     "duration": 0.003083,
     "end_time": "2025-02-27T09:10:34.754503",
     "exception": false,
     "start_time": "2025-02-27T09:10:34.751420",
     "status": "completed"
    },
    "tags": []
   },
   "source": [
    "## Confusion Matrix & Classification Report"
   ]
  },
  {
   "cell_type": "code",
   "execution_count": 6,
   "id": "8b59206b",
   "metadata": {
    "execution": {
     "iopub.execute_input": "2025-02-27T09:10:34.761866Z",
     "iopub.status.busy": "2025-02-27T09:10:34.761585Z",
     "iopub.status.idle": "2025-02-27T09:10:34.774600Z",
     "shell.execute_reply": "2025-02-27T09:10:34.773472Z"
    },
    "papermill": {
     "duration": 0.018379,
     "end_time": "2025-02-27T09:10:34.776045",
     "exception": false,
     "start_time": "2025-02-27T09:10:34.757666",
     "status": "completed"
    },
    "tags": []
   },
   "outputs": [
    {
     "name": "stdout",
     "output_type": "stream",
     "text": [
      "\n",
      "Confusion Matrix:\n",
      "[[41  2]\n",
      " [ 1 70]]\n",
      "\n",
      "Classification Report:\n",
      "               precision    recall  f1-score   support\n",
      "\n",
      "           0       0.98      0.95      0.96        43\n",
      "           1       0.97      0.99      0.98        71\n",
      "\n",
      "    accuracy                           0.97       114\n",
      "   macro avg       0.97      0.97      0.97       114\n",
      "weighted avg       0.97      0.97      0.97       114\n",
      "\n",
      "\n",
      "Name: Somesh Singh\n",
      "Roll Number: 233025921\n"
     ]
    }
   ],
   "source": [
    "# Confusion Matrix\n",
    "conf_matrix = confusion_matrix(y_test, y_pred)\n",
    "print(\"\\nConfusion Matrix:\")\n",
    "print(conf_matrix)\n",
    "\n",
    "# Classification Report\n",
    "report = classification_report(y_test, y_pred)\n",
    "print(\"\\nClassification Report:\\n\", report)\n",
    "\n",
    "# Print name & roll number\n",
    "print(\"\\nName: Somesh Singh\")\n",
    "print(\"Roll Number: 233025921\")"
   ]
  },
  {
   "cell_type": "markdown",
   "id": "c0497b1c",
   "metadata": {
    "papermill": {
     "duration": 0.003291,
     "end_time": "2025-02-27T09:10:34.782776",
     "exception": false,
     "start_time": "2025-02-27T09:10:34.779485",
     "status": "completed"
    },
    "tags": []
   },
   "source": [
    "## Confusion Matrix Heatmap"
   ]
  },
  {
   "cell_type": "code",
   "execution_count": 7,
   "id": "032ea9da",
   "metadata": {
    "execution": {
     "iopub.execute_input": "2025-02-27T09:10:34.790640Z",
     "iopub.status.busy": "2025-02-27T09:10:34.790314Z",
     "iopub.status.idle": "2025-02-27T09:10:35.063559Z",
     "shell.execute_reply": "2025-02-27T09:10:35.062572Z"
    },
    "papermill": {
     "duration": 0.278823,
     "end_time": "2025-02-27T09:10:35.064998",
     "exception": false,
     "start_time": "2025-02-27T09:10:34.786175",
     "status": "completed"
    },
    "tags": []
   },
   "outputs": [
    {
     "data": {
      "image/png": "[encoded data removed]",
      "text/plain": [
       "<Figure size 600x400 with 2 Axes>"
      ]
     },
     "metadata": {},
     "output_type": "display_data"
    },
    {
     "name": "stdout",
     "output_type": "stream",
     "text": [
      "\n",
      "Name: Somesh Singh\n",
      "Roll Number: 233025921\n"
     ]
    }
   ],
   "source": [
    "# Plot Confusion Matrix\n",
    "plt.figure(figsize=(6,4))\n",
    "sns.heatmap(conf_matrix, annot=True, fmt=\"d\", cmap=\"Blues\")\n",
    "plt.xlabel(\"Predicted\")\n",
    "plt.ylabel(\"Actual\")\n",
    "plt.title(\"Confusion Matrix\")\n",
    "plt.show()\n",
    "\n",
    "# Print name & roll number\n",
    "print(\"\\nName: Somesh Singh\")\n",
    "print(\"Roll Number: 233025921\")"
   ]
  }
 ],
 "metadata": {
  "kaggle": {
   "accelerator": "none",
   "dataSources": [
    {
     "datasetId": 6752293,
     "sourceId": 10868889,
     "sourceType": "datasetVersion"
    }
   ],
   "dockerImageVersionId": 30918,
   "isGpuEnabled": false,
   "isInternetEnabled": true,
   "language": "python",
   "sourceType": "notebook"
  },
  "kernelspec": {
   "display_name": "Python 3",
   "language": "python",
   "name": "python3"
  },
  "language_info": {
   "codemirror_mode": {
    "name": "ipython",
    "version": 3
   },
   "file_extension": ".py",
   "mimetype": "text/x-python",
   "name": "python",
   "nbconvert_exporter": "python",
   "pygments_lexer": "ipython3",
   "version": "3.10.12"
  },
  "papermill": {
   "default_parameters": {},
   "duration": 7.418756,
   "end_time": "2025-02-27T09:10:35.789334",
   "environment_variables": {},
   "exception": null,
   "input_path": "__notebook__.ipynb",
   "output_path": "__notebook__.ipynb",
   "parameters": {},
   "start_time": "2025-02-27T09:10:28.370578",
   "version": "2.6.0"
  }
 },
 "nbformat": 4,
 "nbformat_minor": 5
}
